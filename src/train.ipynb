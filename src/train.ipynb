{
  "metadata": {
    "kernelspec": {
      "display_name": "Python (env imagen_gpu_conda_tf1152)",
      "name": "py-dku-venv-imagen_gpu_conda_tf1152",
      "language": "python"
    },
    "language_info": {
      "mimetype": "text/x-python",
      "nbconvert_exporter": "python",
      "version": "3.6.13",
      "name": "python",
      "pygments_lexer": "ipython3",
      "file_extension": ".py",
      "codemirror_mode": {
        "version": 3,
        "name": "ipython"
      }
    },
    "tags": [
      "stanford_metadata"
    ],
    "modifiedBy": "a.fernandez",
    "createdOn": 1627647925615,
    "creator": "a.fernandez",
    "customFields": {},
    "colab": {
      "name": "train.ipynb",
      "provenance": []
    },
    "accelerator": "GPU"
  },
  "nbformat": 4,
  "nbformat_minor": 0,
  "cells": [
    {
      "cell_type": "markdown",
      "source": [
        "![image.png](data:image/png;base64,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)"
      ],
      "metadata": {
        "id": "3wHbR3-oIPOn"
      }
    },
    {
      "execution_count": 1,
      "cell_type": "code",
      "metadata": {
        "id": "oMmkKPoaOD8l"
      },
      "source": [
        "# MRNet-AlexNet - Multi-plane classifier: Axial + Sagittal + Coronal (GradCAM explainer)\n",
        "# Author: Fernandez Hernandez, Alberto\n",
        "# Date  : 2022 - 01 - 28"
      ],
      "outputs": []
    },
    {
      "execution_count": 2,
      "cell_type": "code",
      "metadata": {
        "scrolled": false,
        "id": "wdG0lWCvOD8q",
        "outputId": "8341ee59-8ad5-4676-e780-1b7e8be7ff02",
        "colab": {
          "base_uri": "https://localhost:8080/"
        }
      },
      "source": [
        "!nvidia-smi"
      ],
      "outputs": [
        {
          "output_type": "stream",
          "name": "stdout",
          "text": [
            "Sun Jan 30 08:43:13 2022       \n",
            "+-----------------------------------------------------------------------------+\n",
            "| NVIDIA-SMI 495.46       Driver Version: 460.32.03    CUDA Version: 11.2     |\n",
            "|-------------------------------+----------------------+----------------------+\n",
            "| GPU  Name        Persistence-M| Bus-Id        Disp.A | Volatile Uncorr. ECC |\n",
            "| Fan  Temp  Perf  Pwr:Usage/Cap|         Memory-Usage | GPU-Util  Compute M. |\n",
            "|                               |                      |               MIG M. |\n",
            "|===============================+======================+======================|\n",
            "|   0  Tesla T4            Off  | 00000000:00:04.0 Off |                    0 |\n",
            "| N/A   48C    P8    10W /  70W |      0MiB / 15109MiB |      0%      Default |\n",
            "|                               |                      |                  N/A |\n",
            "+-------------------------------+----------------------+----------------------+\n",
            "                                                                               \n",
            "+-----------------------------------------------------------------------------+\n",
            "| Processes:                                                                  |\n",
            "|  GPU   GI   CI        PID   Type   Process name                  GPU Memory |\n",
            "|        ID   ID                                                   Usage      |\n",
            "|=============================================================================|\n",
            "|  No running processes found                                                 |\n",
            "+-----------------------------------------------------------------------------+\n"
          ]
        }
      ]
    },
    {
      "execution_count": 6,
      "cell_type": "code",
      "metadata": {
        "id": "g8U_1rNnOD8r",
        "outputId": "f84498b8-aada-417e-cc32-94c4b7167f06",
        "colab": {
          "base_uri": "https://localhost:8080/"
        }
      },
      "source": [
        "# Libraries\n",
        "from   matplotlib              import pyplot as plt\n",
        "from   matplotlib.animation    import PillowWriter\n",
        "from   google.colab            import drive\n",
        "from   torch.utils             import data\n",
        "from   sklearn                 import metrics\n",
        "from   tqdm                    import tqdm\n",
        "import torchvision.models      as models\n",
        "import torchvision.transforms  as T\n",
        "import tensorflow.compat.v1    as tf\n",
        "tf.disable_v2_behavior()\n",
        "import matplotlib.animation    as animation\n",
        "import imgaug.augmenters       as iaa\n",
        "import torch.nn                as nn\n",
        "import pandas                  as pd\n",
        "import numpy                   as np\n",
        "import torch\n",
        "import cv2\n",
        "import os\n",
        "\n",
        "torch.__version__, tf.__version__"
      ],
      "outputs": [
        {
          "output_type": "execute_result",
          "data": {
            "text/plain": [
              "('1.10.0+cu111', '2.7.0')"
            ]
          },
          "metadata": {},
          "execution_count": 6
        }
      ]
    },
    {
      "cell_type": "code",
      "source": [
        "# Mount Goodgle Drive\n",
        "drive.mount('/content/drive')"
      ],
      "metadata": {
        "colab": {
          "base_uri": "https://localhost:8080/"
        },
        "id": "Spf_stP6JzPL",
        "outputId": "035370ef-9bb3-4235-be18-1a45353e841c"
      },
      "execution_count": 7,
      "outputs": [
        {
          "output_type": "stream",
          "name": "stdout",
          "text": [
            "Mounted at /content/drive\n"
          ]
        }
      ]
    },
    {
      "execution_count": 8,
      "cell_type": "code",
      "metadata": {
        "id": "0diGkEHaOD8s"
      },
      "source": [
        "# CUDA Device setup\n",
        "# WARNING! DO NOT RUN THIS CHUNK UNLESS YOU WANT TO FIT ON GPU\n",
        "# 1. Choose computer device: 0 -> GPU ; 1 -> GPU1 ; -1 -> CPU\n",
        "os.environ[\"CUDA_VISIBLE_DEVICES\"] = \"0\"\n",
        "# 2. Choose % GPU usage\n",
        "gpu_options = tf.GPUOptions(per_process_gpu_memory_fraction=0.5)\n",
        "# 3. Open a tensorflow session with these settings\n",
        "sess        = tf.Session(config=tf.ConfigProto(gpu_options=gpu_options))"
      ],
      "outputs": []
    },
    {
      "execution_count": 10,
      "cell_type": "code",
      "metadata": {
        "id": "yrVX_VD5OD8t"
      },
      "source": [
        "# Constants\n",
        "MRNET_PATH           = '/content/drive/MyDrive/Personal/Stanford_Knee_Dataset/MRNet-v1.0/'\n",
        "TRAIN_PATH           = '/content/drive/MyDrive/Personal/Stanford_Knee_Dataset/MRNet-v1.0/train/'\n",
        "VAL_PATH             = '/content/drive/MyDrive/Personal/Stanford_Knee_Dataset/MRNet-v1.0/valid/'\n",
        "BATCH_SIZE           = 1\n",
        "RANDOM_STATE         = 1234\n",
        "EPOCHS               = 50\n",
        "PATIENT              = 10\n",
        "LOSS_IMPROVE         = 1e-04\n",
        "# Source: https://www.serme.es/wp-content/uploads/2021/04/IA.-DIAGNOSIS-KNEE_compressed.pdf\n",
        "MAX_PIXEL_VALUE      = 255\n",
        "\n",
        "# Specify seeds for reproducibility\n",
        "torch.manual_seed(RANDOM_STATE)\n",
        "torch.cuda.manual_seed(RANDOM_STATE)\n",
        "np.random.seed(RANDOM_STATE)\n",
        "torch.backends.cudnn.deterministic = True"
      ],
      "outputs": []
    },
    {
      "cell_type": "code",
      "source": [
        "# -- Load Stanford MRI Dataset\n",
        "train_df_abnormal   = pd.read_csv(MRNET_PATH + 'train-abnormal.csv', header=None)\n",
        "train_df_acl        = pd.read_csv(MRNET_PATH + 'train-acl.csv', header=None)\n",
        "train_df_meniscus   = pd.read_csv(MRNET_PATH + 'train-meniscus.csv', header=None)\n",
        "\n",
        "valid_df_abnormal   = pd.read_csv(MRNET_PATH + 'valid-abnormal.csv', header=None)\n",
        "valid_df_acl        = pd.read_csv(MRNET_PATH + 'valid-acl.csv', header=None)\n",
        "valid_df_meniscus   = pd.read_csv(MRNET_PATH + 'valid-meniscus.csv', header=None)\n",
        "\n",
        "train_df            = pd.concat([train_df_abnormal, train_df_acl[1], train_df_meniscus[1]],\n",
        "                                axis=1).drop_duplicates()\n",
        "valid_df            = pd.concat([valid_df_abnormal, valid_df_acl[1], valid_df_meniscus[1]],\n",
        "                                axis=1).drop_duplicates()\n",
        "train_df.columns    = ['Image', 'Abnormal', 'ACL', 'Meniscus']\n",
        "valid_df.columns    = ['Image', 'Abnormal', 'ACL', 'Meniscus']\n",
        "\n",
        "pd.concat([train_df, valid_df], axis=0).reset_index(drop=True).to_csv(MRNET_PATH +\\\n",
        "                                                                      '/knee_metadata.csv')"
      ],
      "metadata": {
        "id": "tm2xIThuOoVd"
      },
      "execution_count": 14,
      "outputs": []
    },
    {
      "cell_type": "markdown",
      "metadata": {
        "id": "PAwRqM9wOD8w"
      },
      "source": [
        "# Load data and transform to data loader"
      ]
    },
    {
      "execution_count": 15,
      "cell_type": "code",
      "metadata": {
        "id": "biyWgjEGOD80"
      },
      "source": [
        "# Step 1. Define MRDataset class\n",
        "class MRDataset(data.Dataset):\n",
        "    def __init__(self, transform=False, train=True, train_index_limit=1130):\n",
        "        super().__init__()\n",
        "        self.transform = transform\n",
        "        self.train     = train\n",
        "        self.records   = pd.read_csv(\n",
        "                            MRNET_PATH + '/knee_metadata.csv'\n",
        "                         )\n",
        "        self.train_index_limit = train_index_limit\n",
        "        # Define the three planes to use\n",
        "        self.planes=['axial', 'sagittal', 'coronal']\n",
        "        # An empty dictionary\n",
        "        self.image_path={}\n",
        "        \n",
        "        if self.train:\n",
        "            for plane in self.planes:\n",
        "                # For each plane, specify the image path\n",
        "                self.image_path[plane] = TRAIN_PATH + '/{0}/'.format(plane)\n",
        "            self.records     = self.records.iloc[0:self.train_index_limit,:]\n",
        "        else:\n",
        "            for plane in self.planes:\n",
        "                # Read path of images for each plane\n",
        "                self.image_path[plane] = VAL_PATH + '/{0}/'.format(plane)\n",
        "            self.records     = self.records.iloc[self.train_index_limit:,:]\n",
        "            \n",
        "        self.records['Image'] = self.records['Image'].map(\n",
        "            lambda i: '0' * (4 - len(str(i))) + str(i))\n",
        "        \n",
        "        # Empty dictionary\n",
        "        self.paths={}\n",
        "        for plane in self.planes:\n",
        "            # Get paths of numpy data files for each plane\n",
        "            self.paths[plane] = [self.image_path[plane] + filename +\n",
        "                          '.npy' for filename in self.records['Image'].tolist()]\n",
        "\n",
        "        self.labels = self.records[['Abnormal', 'ACL', 'Meniscus']].values\n",
        "        \n",
        "        # Label weights (pos and neg)\n",
        "        weights_ = []\n",
        "        for disease in list(range(0,3)):\n",
        "            pos = sum(self.labels[:,disease])\n",
        "            neg = len(self.labels[:,disease]) - pos\n",
        "            weights_.append(neg/pos)\n",
        "        self.weights = torch.FloatTensor(weights_)\n",
        "\n",
        "    def __len__(self):\n",
        "        \"\"\"Return the total number of images in the dataset.\"\"\"\n",
        "        return len(self.records)\n",
        "\n",
        "    def __getitem__(self, index):\n",
        "        # Data augmentation\n",
        "        transform = iaa.Sequential([\n",
        "                    iaa.Fliplr(0.5),\n",
        "                    iaa.Affine(\n",
        "                        translate_percent={\"x\": (-0.11, 0.11), \n",
        "                                           \"y\": (-0.11, 0.11)},\n",
        "                        scale={\"x\": (1, 1.2), \"y\": (1, 1.2)},\n",
        "                        rotate=(-10, 10)\n",
        "            )\n",
        "        ])\n",
        "        \n",
        "        img_raw = {}\n",
        "        for plane in self.planes:\n",
        "            # Load raw image data for each plane\n",
        "            img_raw[plane] = np.load(self.paths[plane][index])\n",
        "            # Normalize between 0 and 1\n",
        "            img_raw[plane] = (img_raw[plane]) / MAX_PIXEL_VALUE\n",
        "            # Resize the image loaded in the previous step\n",
        "            if self.transform:\n",
        "                img_raw_transformed = transform(images=img_raw[plane])\n",
        "                img_raw[plane]      = np.stack((img_raw_transformed,)*3, axis=1)\n",
        "            else:\n",
        "                img_raw[plane] = np.stack((img_raw[plane],)*3, axis=1)\n",
        "                \n",
        "            img_raw[plane] = torch.FloatTensor(img_raw[plane])\n",
        "            \n",
        "        label = self.labels[index]\n",
        "        label = torch.FloatTensor(label)\n",
        "        \n",
        "        # Return a list of three images for three planes and the label of the record\n",
        "        return [img_raw[plane] for plane in self.planes], label"
      ],
      "outputs": []
    },
    {
      "execution_count": 16,
      "cell_type": "code",
      "metadata": {
        "scrolled": true,
        "id": "yLwfCOamOD84"
      },
      "source": [
        "# Get dataset\n",
        "train_dataset = MRDataset(transform=True)\n",
        "val_dataset   = MRDataset(train=False)"
      ],
      "outputs": []
    },
    {
      "execution_count": 17,
      "cell_type": "code",
      "metadata": {
        "id": "Xbri7BMTOD84"
      },
      "source": [
        "train_loader = torch.utils.data.DataLoader(\n",
        "                train_dataset, batch_size=BATCH_SIZE,\n",
        "                shuffle=True, drop_last=False, num_workers=2)\n",
        "\n",
        "val_loader  =  torch.utils.data.DataLoader(\n",
        "                val_dataset, batch_size=BATCH_SIZE, \n",
        "                shuffle=False, drop_last=False, num_workers=2)"
      ],
      "outputs": []
    },
    {
      "cell_type": "markdown",
      "metadata": {
        "id": "feWvF-nCOD85"
      },
      "source": [
        "# Build Conv. model (pre-trained Alexnet)"
      ]
    },
    {
      "execution_count": 44,
      "cell_type": "code",
      "metadata": {
        "id": "MHFKTeIPOD85"
      },
      "source": [
        "# Step 2. Build Conv2D model\n",
        "class CNNModel(nn.Module):\n",
        "    def __init__(self):\n",
        "        super(CNNModel, self).__init__()\n",
        "        \n",
        "        # Build 2D model\n",
        "        # IMPORTANT: Input shape of torch model must be (N,C,H,W) -> BatchSize, Channel, Heigth, Width\n",
        "        # 3 pre-trained alexnet models (one for each plane)\n",
        "        self.axial     = models.alexnet(pretrained=True, progress=False).features\n",
        "        self.sagittal  = models.alexnet(pretrained=True, progress=False).features\n",
        "        self.coronal   = models.alexnet(pretrained=True, progress=False).features\n",
        "        \n",
        "        # Disect the networks to access their last convolutional layer\n",
        "        self.features_conv_axial    = self.axial[:12]\n",
        "        self.features_conv_sagittal = self.sagittal[:12]\n",
        "        self.features_conv_coronal  = self.coronal[:12]\n",
        "        \n",
        "        # Get the max pool of the features stem\n",
        "        self.max_pool    = nn.MaxPool2d(kernel_size=3, stride=2, padding=0, dilation=1, ceil_mode=False)\n",
        "            \n",
        "        self.avg_pool_axial     = nn.AdaptiveAvgPool2d(1)\n",
        "        self.avg_pool_sagittal  = nn.AdaptiveAvgPool2d(1)\n",
        "        self.avg_pool_coronal   = nn.AdaptiveAvgPool2d(1)\n",
        "        \n",
        "        # Placeholders for the gradients\n",
        "        self.gradients_axial    = None\n",
        "        self.gradients_sagittal = None\n",
        "        self.gradients_coronal  = None\n",
        "        \n",
        "        # Finally, define 3-outputs-dense layer\n",
        "        self.fc = nn.Sequential(\n",
        "            nn.Linear(in_features=3 * 256, out_features=3)\n",
        "        )\n",
        "    \n",
        "    # Hook for the gradients of the activations\n",
        "    # Axial\n",
        "    def activations_hook_axial(self, grad):\n",
        "        self.gradients_axial = grad\n",
        "    # Sagittal\n",
        "    def activations_hook_sagittal(self, grad):\n",
        "        self.gradients_sagittal = grad\n",
        "    # Coronal\n",
        "    def activations_hook_coronal(self, grad):\n",
        "        self.gradients_coronal = grad\n",
        "    \n",
        "    def forward(self, x):\n",
        "        # Remove first dimension for each image (on each plane)\n",
        "        images = [torch.squeeze(img, dim=0) for img in x]\n",
        "        # Extract features from alexnet models\n",
        "        image1 = self.features_conv_axial(images[0])\n",
        "        image2 = self.features_conv_sagittal(images[1])\n",
        "        image3 = self.features_conv_coronal(images[2])\n",
        "        \n",
        "        # Register the hook (for each plane)\n",
        "        h_axial    = image1.register_hook(self.activations_hook_axial)\n",
        "        h_sagittal = image2.register_hook(self.activations_hook_sagittal)\n",
        "        h_coronal  = image3.register_hook(self.activations_hook_coronal)\n",
        "        \n",
        "        # Apply remaining pooling (MaxPool2d & AdaptiveAvgPool2d)\n",
        "        image1 = self.max_pool(image1)\n",
        "        image2 = self.max_pool(image2)\n",
        "        image3 = self.max_pool(image3)\n",
        "        \n",
        "        # Convert image dimension from [slices, 256, 1, 1] to [slices, 256]\n",
        "        image1 = self.avg_pool_axial(image1).view(image1.size(0), -1)\n",
        "        image2 = self.avg_pool_sagittal(image2).view(image2.size(0), -1)\n",
        "        image3 = self.avg_pool_coronal(image3).view(image3.size(0), -1)\n",
        "        \n",
        "        # Find maximum value across slices, reducing images to [1, 256]\n",
        "        image1 = torch.max(image1, dim=0, keepdim=True)[0]\n",
        "        image2 = torch.max(image2, dim=0, keepdim=True)[0]\n",
        "        image3 = torch.max(image3, dim=0, keepdim=True)[0]\n",
        "        \n",
        "        # Stack 3 images together\n",
        "        output = torch.cat([image1, image2, image3], dim=1)\n",
        "        \n",
        "        # Feed the output to last dense layer\n",
        "        output = self.fc(output)\n",
        "        return output\n",
        "    \n",
        "    # Method for the gradient extraction\n",
        "    def get_activations_gradient(self):\n",
        "        return [self.gradients_axial, self.gradients_sagittal, self.gradients_coronal]\n",
        "    \n",
        "    # Method for the activation extraction\n",
        "    def get_activations(self, x):\n",
        "        images = [torch.squeeze(img, dim=0) for img in x]\n",
        "        return [self.features_conv_axial(images[0]), \n",
        "                self.features_conv_sagittal(images[1]), \n",
        "                self.features_conv_coronal(images[2])]"
      ],
      "outputs": []
    },
    {
      "execution_count": 19,
      "cell_type": "code",
      "metadata": {
        "id": "EcouZknzOD86",
        "outputId": "5b1ef689-37c8-46cd-998c-9b7c5accfe99",
        "colab": {
          "base_uri": "https://localhost:8080/"
        }
      },
      "source": [
        "model = CNNModel()\n",
        "for param in model.parameters():\n",
        "    print(param.size())"
      ],
      "outputs": [
        {
          "output_type": "stream",
          "name": "stderr",
          "text": [
            "Downloading: \"https://download.pytorch.org/models/alexnet-owt-7be5be79.pth\" to /root/.cache/torch/hub/checkpoints/alexnet-owt-7be5be79.pth\n"
          ]
        },
        {
          "output_type": "stream",
          "name": "stdout",
          "text": [
            "torch.Size([64, 3, 11, 11])\n",
            "torch.Size([64])\n",
            "torch.Size([192, 64, 5, 5])\n",
            "torch.Size([192])\n",
            "torch.Size([384, 192, 3, 3])\n",
            "torch.Size([384])\n",
            "torch.Size([256, 384, 3, 3])\n",
            "torch.Size([256])\n",
            "torch.Size([256, 256, 3, 3])\n",
            "torch.Size([256])\n",
            "torch.Size([64, 3, 11, 11])\n",
            "torch.Size([64])\n",
            "torch.Size([192, 64, 5, 5])\n",
            "torch.Size([192])\n",
            "torch.Size([384, 192, 3, 3])\n",
            "torch.Size([384])\n",
            "torch.Size([256, 384, 3, 3])\n",
            "torch.Size([256])\n",
            "torch.Size([256, 256, 3, 3])\n",
            "torch.Size([256])\n",
            "torch.Size([64, 3, 11, 11])\n",
            "torch.Size([64])\n",
            "torch.Size([192, 64, 5, 5])\n",
            "torch.Size([192])\n",
            "torch.Size([384, 192, 3, 3])\n",
            "torch.Size([384])\n",
            "torch.Size([256, 384, 3, 3])\n",
            "torch.Size([256])\n",
            "torch.Size([256, 256, 3, 3])\n",
            "torch.Size([256])\n",
            "torch.Size([3, 768])\n",
            "torch.Size([3])\n"
          ]
        }
      ]
    },
    {
      "execution_count": 20,
      "cell_type": "code",
      "metadata": {
        "id": "g63e9pZPOD86"
      },
      "source": [
        "# Define error criterion and optimize functions\n",
        "train_criterion = nn.BCEWithLogitsLoss(pos_weight = train_dataset.weights)\n",
        "val_criterion   = nn.BCEWithLogitsLoss(pos_weight = val_dataset.weights)\n",
        "\n",
        "optimizer = torch.optim.Adam(model.parameters(), lr = 1e-05)\n",
        "# Define callbacks\n",
        "scheduler = torch.optim.lr_scheduler.ReduceLROnPlateau(\n",
        "        optimizer, patience=3, factor=0.3, threshold=1e-4, verbose=True)"
      ],
      "outputs": []
    },
    {
      "execution_count": 21,
      "cell_type": "code",
      "metadata": {
        "id": "ZyosFBFLOD87"
      },
      "source": [
        "# Get Sensitivity-Specificity metrics\n",
        "# Source: https://machinelearningmastery.com/tour-of-evaluation-metrics-for-imbalanced-classification/\n",
        "def get_sensitivity_specificity(y_true, y_pred):\n",
        "    abnormal_true = list(map(lambda x: x[0], y_true))\n",
        "    abnormal_pred = list(map(lambda x: x[0], y_pred))\n",
        "    \n",
        "    ACL_true      = list(map(lambda x: x[1], y_true))\n",
        "    ACL_pred      = list(map(lambda x: x[1], y_pred))\n",
        "    \n",
        "    meniscus_true = list(map(lambda x: x[2], y_true))\n",
        "    meniscus_pred = list(map(lambda x: x[2], y_pred))\n",
        "\n",
        "    tn_ab, fp_ab, fn_ab, tp_ab     = metrics.confusion_matrix(abnormal_true, abnormal_pred).ravel()\n",
        "    tn_acl, fp_acl, fn_acl, tp_acl = metrics.confusion_matrix(ACL_true, ACL_pred).ravel()\n",
        "    tn_men, fp_men, fn_men, tp_men = metrics.confusion_matrix(meniscus_true, meniscus_pred).ravel()\n",
        "    sensitivity = [round(tp_ab / (tp_ab+fn_ab), 4), round(tp_acl / (tp_acl+fn_acl), 4), round(tp_men / (tp_men+fn_men), 4)]\n",
        "    specificity = [round(tn_ab / (tn_ab+fp_ab), 4), round(tn_acl / (tn_acl+fp_acl), 4), round(tn_men / (tn_men+fp_men), 4)]\n",
        "    return sensitivity, specificity"
      ],
      "outputs": []
    },
    {
      "execution_count": 22,
      "cell_type": "code",
      "metadata": {
        "id": "9P2VeUCTOD87"
      },
      "source": [
        "# Define train function\n",
        "def train(train_data, model, criterion):\n",
        "    print('Training...')\n",
        "    model.train()\n",
        "    counter = 0\n",
        "    correct = 0\n",
        "    train_running_loss  = 0.0\n",
        "    total               = 0.0\n",
        "    prediction_list     = []\n",
        "    for input_data, label in tqdm(train_data):\n",
        "        # Switch to GPU if available\n",
        "        if torch.cuda.is_available():\n",
        "            input_data, label = [data.cuda() for data in input_data], label.cuda()\n",
        "        counter += 1\n",
        "        optimizer.zero_grad()\n",
        "        outputs = model(input_data)\n",
        "\n",
        "        # Apply sigmoid activation to get all the outputs between 0 and 1\n",
        "        outputs_sig  = torch.sigmoid(outputs)\n",
        "        predicted    = torch.round(outputs_sig)\n",
        "        prediction_list.append(list(predicted.cpu().detach().numpy())[0])\n",
        "        total       += label.size(1)\n",
        "        \n",
        "        # Accuracy (labels correctly classified)\n",
        "        correct += (np.array(predicted.cpu().detach().numpy())[0]\\\n",
        "                    == np.array(label.cpu().detach().numpy())[0]).sum().item()\n",
        "        \n",
        "        # Loss\n",
        "        loss     = criterion(outputs.cpu(), label.cpu())\n",
        "        train_running_loss += loss.item()\n",
        "        # Backpropagation\n",
        "        loss.backward()\n",
        "        # Update optimizer parameters\n",
        "        optimizer.step()\n",
        "    train_accuracy   = correct / total\n",
        "    train_loss       = train_running_loss  / counter\n",
        "    return train_loss, train_accuracy, prediction_list"
      ],
      "outputs": []
    },
    {
      "execution_count": 42,
      "cell_type": "code",
      "metadata": {
        "id": "mdaR5-VPOD87"
      },
      "source": [
        "# Define val function\n",
        "def val(val_data, model, criterion):\n",
        "    print('Validating...')\n",
        "    model.eval()\n",
        "    counter = 0\n",
        "    correct = 0\n",
        "    val_running_loss = 0.0\n",
        "    total            = 0.0\n",
        "    prediction_list  = []\n",
        "    label_list       = []\n",
        "    # with torch.no_grad():\n",
        "    for input_data, label in tqdm(val_data):\n",
        "        # Again, switch to GPU if available\n",
        "        if torch.cuda.is_available():\n",
        "            input_data, label = [data.cuda() for data in input_data], label.cuda()\n",
        "        counter += 1\n",
        "        outputs  = model(input_data)\n",
        "        # Apply sigmoid activation to get all the outputs between 0 and 1\n",
        "        outputs_sig = torch.sigmoid(outputs)\n",
        "        predicted   = torch.round(outputs_sig)\n",
        "\n",
        "        prediction_list.append(list(predicted.cpu().detach().numpy())[0])\n",
        "        label_list.append(list(label.cpu().detach().numpy())[0])\n",
        "        total    += label.size(1)\n",
        "\n",
        "        # Accuracy (labels correctly classified)\n",
        "        correct += (np.array(predicted.cpu().detach().numpy())[0]\\\n",
        "                == np.array(label.cpu().detach().numpy())[0]).sum().item()\n",
        "\n",
        "        # Loss\n",
        "        loss     = criterion(outputs.cpu(), label.cpu())\n",
        "        val_running_loss += loss.item()\n",
        "\n",
        "    val_accuracy = correct / total\n",
        "    val_loss     = val_running_loss / counter\n",
        "    # Get Sensitivity/Specificity\n",
        "    sensitivity, specificity  = utils.get_sensitivity_specificity(label_list, prediction_list) \n",
        "    return val_loss, val_accuracy, prediction_list, sensitivity, specificity"
      ],
      "outputs": []
    },
    {
      "execution_count": null,
      "cell_type": "code",
      "metadata": {
        "scrolled": true,
        "id": "_2VmRAVEOD88",
        "outputId": "a4c43f06-6086-479a-cc00-cda287d86b5d"
      },
      "source": [
        "# start the training and validation\n",
        "train_loss     = []\n",
        "train_accuracy = []\n",
        "valid_loss     = []\n",
        "valid_accuracy = []\n",
        "total_train_predictions = []\n",
        "total_val_predictions   = []\n",
        "\n",
        "best_val_loss = float('inf')\n",
        "best_val_auc  = float(0)\n",
        "\n",
        "patient_counter = 0\n",
        "\n",
        "if torch.cuda.is_available():\n",
        "    model = model.cuda()\n",
        "\n",
        "for epoch in range(EPOCHS):\n",
        "    print(f\"Epoch {epoch+1} of {EPOCHS}\")\n",
        "    train_epoch_loss, train_epoch_accuracy, train_predictions = train(\n",
        "        train_loader, model, train_criterion\n",
        "    )\n",
        "    val_epoch_loss, val_epoch_accuracy, val_predictions, val_sensitivity, val_specificity = val(\n",
        "        val_loader, model, val_criterion\n",
        "    )\n",
        "    \n",
        "    # Call ReduceLR Callback (after validation step)\n",
        "    scheduler.step(val_epoch_loss)\n",
        "    \n",
        "    if best_val_loss - val_epoch_loss >= LOSS_IMPROVE:\n",
        "        print(\"Val loss has improved. From {} to {}. Saving model...\".format(best_val_loss, val_epoch_loss))\n",
        "        best_val_loss   = val_epoch_loss\n",
        "        patient_counter = 0\n",
        "        torch.save(model, f'{MRNET_PATH}/models/multiplane_grad_cam_models/mrnet_three_pretrained_models_non_frozen_weights_standarized_img_aug_gradcam_2022_01_28.pth')\n",
        "    else:\n",
        "        print(\"Val loss did not improve\")\n",
        "        patient_counter+=1\n",
        "        if patient_counter == PATIENT:\n",
        "            break\n",
        "        \n",
        "    train_loss.append(train_epoch_loss)\n",
        "    train_accuracy.append(train_epoch_accuracy)\n",
        "    valid_loss.append(val_epoch_loss)\n",
        "    valid_accuracy.append(val_epoch_accuracy)\n",
        "    total_train_predictions.append(train_predictions)\n",
        "    total_val_predictions.append(val_predictions)\n",
        "    print(f\"Train Accuracy: {train_epoch_accuracy:.4f}\")\n",
        "    print(f'Val Accuracy: {val_epoch_accuracy:.4f}')\n",
        "    print(f\"Train Loss: {train_epoch_loss:.4f}\")\n",
        "    print(f'Val Loss: {val_epoch_loss:.4f}')\n",
        "    print(\"Val-Sensitivity. Abnormal : {}, ACL: {}, Meniscus: {}\".format(val_sensitivity[0], val_sensitivity[1], val_sensitivity[2]))\n",
        "    print(\"Val-Specifity.   Abnormal : {}, ACL: {}, Meniscus: {}\".format(val_specificity[0], val_specificity[1], val_specificity[2]))\n",
        "    print(\"-\"*80)"
      ],
      "outputs": [
        {
          "output_type": "stream",
          "name": "stdout",
          "text": "Epoch 1 of 50\nTraining...\n"
        },
        {
          "output_type": "stream",
          "name": "stderr",
          "text": "100%|██████████| 1130/1130 [01:49<00:00, 10.34it/s]\n"
        },
        {
          "output_type": "stream",
          "name": "stdout",
          "text": "Validating...\n"
        },
        {
          "output_type": "stream",
          "name": "stderr",
          "text": "100%|██████████| 120/120 [00:07<00:00, 15.96it/s]\n/data/dss_data/code-envs/python/imagen_gpu_conda_tf1152/lib/python3.6/site-packages/torch/serialization.py:360: UserWarning: Couldn't retrieve source code for container of type CNNModel. It won't be checked for correctness upon loading.\n  \"type \" + obj.__name__ + \". It won't be checked \"\n"
        },
        {
          "output_type": "stream",
          "name": "stdout",
          "text": "Val loss has improved. From inf to 0.5348769331971804. Saving model...\nTrain Accuracy: 0.6156\nVal Accuracy: 0.5917\nTrain Loss: 0.7309\nVal Loss: 0.5349\nVal-Sensitivity. Abnormal : 0.1579, ACL: 0.6296, Meniscus: 0.5769\nVal-Specifity.   Abnormal : 1.0, ACL: 0.9242, Meniscus: 0.7059\n--------------------------------------------------------------------------------\nEpoch 2 of 50\nTraining...\n"
        },
        {
          "output_type": "stream",
          "name": "stderr",
          "text": "100%|██████████| 1130/1130 [01:53<00:00,  9.98it/s]\n"
        },
        {
          "output_type": "stream",
          "name": "stdout",
          "text": "Validating...\n"
        },
        {
          "output_type": "stream",
          "name": "stderr",
          "text": "100%|██████████| 120/120 [00:07<00:00, 15.82it/s]\n"
        },
        {
          "output_type": "stream",
          "name": "stdout",
          "text": "Val loss has improved. From 0.5348769331971804 to 0.5009723026305437. Saving model...\nTrain Accuracy: 0.6929\nVal Accuracy: 0.7667\nTrain Loss: 0.6649\nVal Loss: 0.5010\nVal-Sensitivity. Abnormal : 0.9684, ACL: 0.5556, Meniscus: 0.5577\nVal-Specifity.   Abnormal : 0.32, ACL: 0.9394, Meniscus: 0.8088\n--------------------------------------------------------------------------------\nEpoch 3 of 50\nTraining...\n"
        },
        {
          "output_type": "stream",
          "name": "stderr",
          "text": "100%|██████████| 1130/1130 [01:51<00:00, 10.16it/s]\n"
        },
        {
          "output_type": "stream",
          "name": "stdout",
          "text": "Validating...\n"
        },
        {
          "output_type": "stream",
          "name": "stderr",
          "text": "100%|██████████| 120/120 [00:07<00:00, 15.42it/s]\n"
        },
        {
          "output_type": "stream",
          "name": "stdout",
          "text": "Val loss has improved. From 0.5009723026305437 to 0.4606854851047198. Saving model...\nTrain Accuracy: 0.7274\nVal Accuracy: 0.7694\nTrain Loss: 0.6259\nVal Loss: 0.4607\nVal-Sensitivity. Abnormal : 0.9368, ACL: 0.7593, Meniscus: 0.7885\nVal-Specifity.   Abnormal : 0.44, ACL: 0.8182, Meniscus: 0.6029\n--------------------------------------------------------------------------------\nEpoch 4 of 50\nTraining...\n"
        },
        {
          "output_type": "stream",
          "name": "stderr",
          "text": "100%|██████████| 1130/1130 [01:51<00:00, 10.14it/s]\n"
        },
        {
          "output_type": "stream",
          "name": "stdout",
          "text": "Validating...\n"
        },
        {
          "output_type": "stream",
          "name": "stderr",
          "text": "100%|██████████| 120/120 [00:07<00:00, 15.38it/s]\n"
        },
        {
          "output_type": "stream",
          "name": "stdout",
          "text": "Val loss did not improve\nTrain Accuracy: 0.7422\nVal Accuracy: 0.7944\nTrain Loss: 0.6035\nVal Loss: 0.4646\nVal-Sensitivity. Abnormal : 0.9158, ACL: 0.6667, Meniscus: 0.6346\nVal-Specifity.   Abnormal : 0.56, ACL: 0.9394, Meniscus: 0.7941\n--------------------------------------------------------------------------------\nEpoch 5 of 50\nTraining...\n"
        },
        {
          "output_type": "stream",
          "name": "stderr",
          "text": "100%|██████████| 1130/1130 [01:50<00:00, 10.23it/s]\n"
        },
        {
          "output_type": "stream",
          "name": "stdout",
          "text": "Validating...\n"
        },
        {
          "output_type": "stream",
          "name": "stderr",
          "text": "100%|██████████| 120/120 [00:07<00:00, 15.69it/s]\n"
        },
        {
          "output_type": "stream",
          "name": "stdout",
          "text": "Val loss has improved. From 0.4606854851047198 to 0.45825071930885314. Saving model...\nTrain Accuracy: 0.7590\nVal Accuracy: 0.7556\nTrain Loss: 0.5761\nVal Loss: 0.4583\nVal-Sensitivity. Abnormal : 0.9579, ACL: 0.7407, Meniscus: 0.9038\nVal-Specifity.   Abnormal : 0.48, ACL: 0.7879, Meniscus: 0.4412\n--------------------------------------------------------------------------------\nEpoch 6 of 50\nTraining...\n"
        },
        {
          "output_type": "stream",
          "name": "stderr",
          "text": "100%|██████████| 1130/1130 [01:51<00:00, 10.10it/s]\n"
        },
        {
          "output_type": "stream",
          "name": "stdout",
          "text": "Validating...\n"
        },
        {
          "output_type": "stream",
          "name": "stderr",
          "text": "100%|██████████| 120/120 [00:07<00:00, 15.76it/s]\n"
        },
        {
          "output_type": "stream",
          "name": "stdout",
          "text": "Val loss did not improve\nTrain Accuracy: 0.7593\nVal Accuracy: 0.7667\nTrain Loss: 0.5665\nVal Loss: 0.4665\nVal-Sensitivity. Abnormal : 0.8105, ACL: 0.5, Meniscus: 0.5962\nVal-Specifity.   Abnormal : 0.88, ACL: 0.9545, Meniscus: 0.8235\n--------------------------------------------------------------------------------\nEpoch 7 of 50\nTraining...\n"
        },
        {
          "output_type": "stream",
          "name": "stderr",
          "text": "100%|██████████| 1130/1130 [01:54<00:00,  9.90it/s]\n"
        },
        {
          "output_type": "stream",
          "name": "stdout",
          "text": "Validating...\n"
        },
        {
          "output_type": "stream",
          "name": "stderr",
          "text": "100%|██████████| 120/120 [00:07<00:00, 15.86it/s]\n"
        },
        {
          "output_type": "stream",
          "name": "stdout",
          "text": "Val loss has improved. From 0.45825071930885314 to 0.43853692977378766. Saving model...\nTrain Accuracy: 0.7746\nVal Accuracy: 0.7833\nTrain Loss: 0.5532\nVal Loss: 0.4385\nVal-Sensitivity. Abnormal : 0.8737, ACL: 0.8519, Meniscus: 0.5192\nVal-Specifity.   Abnormal : 0.76, ACL: 0.7424, Meniscus: 0.8529\n--------------------------------------------------------------------------------\nEpoch 8 of 50\nTraining...\n"
        },
        {
          "output_type": "stream",
          "name": "stderr",
          "text": "100%|██████████| 1130/1130 [01:49<00:00, 10.33it/s]\n"
        },
        {
          "output_type": "stream",
          "name": "stdout",
          "text": "Validating...\n"
        },
        {
          "output_type": "stream",
          "name": "stderr",
          "text": "100%|██████████| 120/120 [00:07<00:00, 15.90it/s]\n"
        },
        {
          "output_type": "stream",
          "name": "stdout",
          "text": "Val loss did not improve\nTrain Accuracy: 0.7776\nVal Accuracy: 0.7694\nTrain Loss: 0.5411\nVal Loss: 0.4840\nVal-Sensitivity. Abnormal : 0.9684, ACL: 0.7037, Meniscus: 0.9808\nVal-Specifity.   Abnormal : 0.44, ACL: 0.9091, Meniscus: 0.3676\n--------------------------------------------------------------------------------\nEpoch 9 of 50\nTraining...\n"
        },
        {
          "output_type": "stream",
          "name": "stderr",
          "text": "100%|██████████| 1130/1130 [01:49<00:00, 10.32it/s]\n"
        },
        {
          "output_type": "stream",
          "name": "stdout",
          "text": "Validating...\n"
        },
        {
          "output_type": "stream",
          "name": "stderr",
          "text": "100%|██████████| 120/120 [00:07<00:00, 16.02it/s]\n"
        },
        {
          "output_type": "stream",
          "name": "stdout",
          "text": "Val loss did not improve\nTrain Accuracy: 0.7844\nVal Accuracy: 0.7806\nTrain Loss: 0.5305\nVal Loss: 0.4501\nVal-Sensitivity. Abnormal : 0.8842, ACL: 0.7037, Meniscus: 0.3462\nVal-Specifity.   Abnormal : 0.76, ACL: 0.8939, Meniscus: 0.9265\n--------------------------------------------------------------------------------\nEpoch 10 of 50\nTraining...\n"
        },
        {
          "output_type": "stream",
          "name": "stderr",
          "text": "100%|██████████| 1130/1130 [01:48<00:00, 10.37it/s]\n"
        },
        {
          "output_type": "stream",
          "name": "stdout",
          "text": "Validating...\n"
        },
        {
          "output_type": "stream",
          "name": "stderr",
          "text": "100%|██████████| 120/120 [00:07<00:00, 16.04it/s]\n"
        },
        {
          "output_type": "stream",
          "name": "stdout",
          "text": "Val loss did not improve\nTrain Accuracy: 0.7835\nVal Accuracy: 0.7556\nTrain Loss: 0.5114\nVal Loss: 0.5146\nVal-Sensitivity. Abnormal : 0.9789, ACL: 0.6481, Meniscus: 0.9808\nVal-Specifity.   Abnormal : 0.2, ACL: 0.9394, Meniscus: 0.3824\n--------------------------------------------------------------------------------\nEpoch 11 of 50\nTraining...\n"
        },
        {
          "output_type": "stream",
          "name": "stderr",
          "text": "100%|██████████| 1130/1130 [01:51<00:00, 10.11it/s]\n"
        },
        {
          "output_type": "stream",
          "name": "stdout",
          "text": "Validating...\n"
        },
        {
          "output_type": "stream",
          "name": "stderr",
          "text": "100%|██████████| 120/120 [00:07<00:00, 15.86it/s]\n"
        },
        {
          "output_type": "stream",
          "name": "stdout",
          "text": "Val loss has improved. From 0.43853692977378766 to 0.43063515356431403. Saving model...\nTrain Accuracy: 0.7950\nVal Accuracy: 0.7889\nTrain Loss: 0.5042\nVal Loss: 0.4306\nVal-Sensitivity. Abnormal : 0.9053, ACL: 0.6296, Meniscus: 0.6346\nVal-Specifity.   Abnormal : 0.72, ACL: 0.9545, Meniscus: 0.7353\n--------------------------------------------------------------------------------\nEpoch 12 of 50\nTraining...\n"
        },
        {
          "output_type": "stream",
          "name": "stderr",
          "text": "100%|██████████| 1130/1130 [01:50<00:00, 10.21it/s]\n"
        },
        {
          "output_type": "stream",
          "name": "stdout",
          "text": "Validating...\n"
        },
        {
          "output_type": "stream",
          "name": "stderr",
          "text": "100%|██████████| 120/120 [00:07<00:00, 16.00it/s]\n"
        },
        {
          "output_type": "stream",
          "name": "stdout",
          "text": "Val loss has improved. From 0.43063515356431403 to 0.4091436728524665. Saving model...\nTrain Accuracy: 0.7991\nVal Accuracy: 0.7972\nTrain Loss: 0.4923\nVal Loss: 0.4091\nVal-Sensitivity. Abnormal : 0.9053, ACL: 0.7037, Meniscus: 0.6923\nVal-Specifity.   Abnormal : 0.72, ACL: 0.8939, Meniscus: 0.7353\n--------------------------------------------------------------------------------\nEpoch 13 of 50\nTraining...\n"
        },
        {
          "output_type": "stream",
          "name": "stderr",
          "text": "100%|██████████| 1130/1130 [01:49<00:00, 10.33it/s]\n"
        },
        {
          "output_type": "stream",
          "name": "stdout",
          "text": "Validating...\n"
        },
        {
          "output_type": "stream",
          "name": "stderr",
          "text": "100%|██████████| 120/120 [00:07<00:00, 15.98it/s]\n"
        },
        {
          "output_type": "stream",
          "name": "stdout",
          "text": "Val loss did not improve\nTrain Accuracy: 0.7982\nVal Accuracy: 0.7667\nTrain Loss: 0.4763\nVal Loss: 0.4776\nVal-Sensitivity. Abnormal : 0.9789, ACL: 0.6481, Meniscus: 0.9615\nVal-Specifity.   Abnormal : 0.4, ACL: 0.9545, Meniscus: 0.3676\n--------------------------------------------------------------------------------\nEpoch 14 of 50\nTraining...\n"
        },
        {
          "output_type": "stream",
          "name": "stderr",
          "text": "100%|██████████| 1130/1130 [01:49<00:00, 10.33it/s]\n"
        },
        {
          "output_type": "stream",
          "name": "stdout",
          "text": "Validating...\n"
        },
        {
          "output_type": "stream",
          "name": "stderr",
          "text": "100%|██████████| 120/120 [00:07<00:00, 15.83it/s]\n"
        },
        {
          "output_type": "stream",
          "name": "stdout",
          "text": "Val loss did not improve\nTrain Accuracy: 0.8077\nVal Accuracy: 0.7917\nTrain Loss: 0.4632\nVal Loss: 0.4159\nVal-Sensitivity. Abnormal : 0.9263, ACL: 0.6852, Meniscus: 0.8846\nVal-Specifity.   Abnormal : 0.68, ACL: 0.9394, Meniscus: 0.5147\n--------------------------------------------------------------------------------\nEpoch 15 of 50\nTraining...\n"
        },
        {
          "output_type": "stream",
          "name": "stderr",
          "text": "100%|██████████| 1130/1130 [01:49<00:00, 10.34it/s]\n"
        },
        {
          "output_type": "stream",
          "name": "stdout",
          "text": "Validating...\n"
        },
        {
          "output_type": "stream",
          "name": "stderr",
          "text": "100%|██████████| 120/120 [00:07<00:00, 15.91it/s]\n"
        },
        {
          "output_type": "stream",
          "name": "stdout",
          "text": "Val loss did not improve\nTrain Accuracy: 0.8086\nVal Accuracy: 0.7722\nTrain Loss: 0.4591\nVal Loss: 0.4466\nVal-Sensitivity. Abnormal : 0.9368, ACL: 0.5556, Meniscus: 0.8077\nVal-Specifity.   Abnormal : 0.6, ACL: 0.9697, Meniscus: 0.5588\n--------------------------------------------------------------------------------\nEpoch 16 of 50\nTraining...\n"
        },
        {
          "output_type": "stream",
          "name": "stderr",
          "text": "100%|██████████| 1130/1130 [01:49<00:00, 10.29it/s]\n"
        },
        {
          "output_type": "stream",
          "name": "stdout",
          "text": "Validating...\n"
        },
        {
          "output_type": "stream",
          "name": "stderr",
          "text": "100%|██████████| 120/120 [00:07<00:00, 15.85it/s]\n"
        },
        {
          "output_type": "stream",
          "name": "stdout",
          "text": "Epoch    16: reducing learning rate of group 0 to 3.0000e-06.\nVal loss did not improve\nTrain Accuracy: 0.8133\nVal Accuracy: 0.7750\nTrain Loss: 0.4450\nVal Loss: 0.4792\nVal-Sensitivity. Abnormal : 0.9684, ACL: 0.5926, Meniscus: 0.9038\nVal-Specifity.   Abnormal : 0.44, ACL: 0.9697, Meniscus: 0.4853\n--------------------------------------------------------------------------------\nEpoch 17 of 50\nTraining...\n"
        },
        {
          "output_type": "stream",
          "name": "stderr",
          "text": "100%|██████████| 1130/1130 [01:49<00:00, 10.33it/s]\n"
        },
        {
          "output_type": "stream",
          "name": "stdout",
          "text": "Validating...\n"
        },
        {
          "output_type": "stream",
          "name": "stderr",
          "text": "100%|██████████| 120/120 [00:07<00:00, 15.99it/s]\n"
        },
        {
          "output_type": "stream",
          "name": "stdout",
          "text": "Val loss did not improve\nTrain Accuracy: 0.8336\nVal Accuracy: 0.7889\nTrain Loss: 0.4053\nVal Loss: 0.4228\nVal-Sensitivity. Abnormal : 0.9474, ACL: 0.6111, Meniscus: 0.75\nVal-Specifity.   Abnormal : 0.6, ACL: 0.9394, Meniscus: 0.6618\n--------------------------------------------------------------------------------\nEpoch 18 of 50\nTraining...\n"
        },
        {
          "output_type": "stream",
          "name": "stderr",
          "text": "100%|██████████| 1130/1130 [01:49<00:00, 10.32it/s]\n"
        },
        {
          "output_type": "stream",
          "name": "stdout",
          "text": "Validating...\n"
        },
        {
          "output_type": "stream",
          "name": "stderr",
          "text": "100%|██████████| 120/120 [00:07<00:00, 15.97it/s]\n"
        },
        {
          "output_type": "stream",
          "name": "stdout",
          "text": "Val loss did not improve\nTrain Accuracy: 0.8369\nVal Accuracy: 0.7806\nTrain Loss: 0.4012\nVal Loss: 0.4384\nVal-Sensitivity. Abnormal : 0.9263, ACL: 0.5926, Meniscus: 0.7115\nVal-Specifity.   Abnormal : 0.64, ACL: 0.9697, Meniscus: 0.6471\n--------------------------------------------------------------------------------\nEpoch 19 of 50\nTraining...\n"
        },
        {
          "output_type": "stream",
          "name": "stderr",
          "text": "100%|██████████| 1130/1130 [01:49<00:00, 10.29it/s]\n"
        },
        {
          "output_type": "stream",
          "name": "stdout",
          "text": "Validating...\n"
        },
        {
          "output_type": "stream",
          "name": "stderr",
          "text": "100%|██████████| 120/120 [00:07<00:00, 15.99it/s]\n"
        },
        {
          "output_type": "stream",
          "name": "stdout",
          "text": "Val loss did not improve\nTrain Accuracy: 0.8354\nVal Accuracy: 0.7917\nTrain Loss: 0.3945\nVal Loss: 0.4298\nVal-Sensitivity. Abnormal : 0.9579, ACL: 0.5926, Meniscus: 0.6731\nVal-Specifity.   Abnormal : 0.6, ACL: 0.9697, Meniscus: 0.7059\n--------------------------------------------------------------------------------\nEpoch 20 of 50\nTraining...\n"
        },
        {
          "output_type": "stream",
          "name": "stderr",
          "text": "100%|██████████| 1130/1130 [01:50<00:00, 10.26it/s]\n"
        },
        {
          "output_type": "stream",
          "name": "stdout",
          "text": "Validating...\n"
        },
        {
          "output_type": "stream",
          "name": "stderr",
          "text": "100%|██████████| 120/120 [00:07<00:00, 15.83it/s]\n"
        },
        {
          "output_type": "stream",
          "name": "stdout",
          "text": "Epoch    20: reducing learning rate of group 0 to 9.0000e-07.\nVal loss did not improve\nTrain Accuracy: 0.8419\nVal Accuracy: 0.7833\nTrain Loss: 0.3862\nVal Loss: 0.4600\nVal-Sensitivity. Abnormal : 0.9579, ACL: 0.5741, Meniscus: 0.7692\nVal-Specifity.   Abnormal : 0.6, ACL: 0.9697, Meniscus: 0.6029\n--------------------------------------------------------------------------------\nEpoch 21 of 50\nTraining...\n"
        },
        {
          "output_type": "stream",
          "name": "stderr",
          "text": "100%|██████████| 1130/1130 [01:49<00:00, 10.34it/s]\n"
        },
        {
          "output_type": "stream",
          "name": "stdout",
          "text": "Validating...\n"
        },
        {
          "output_type": "stream",
          "name": "stderr",
          "text": "100%|██████████| 120/120 [00:07<00:00, 15.82it/s]\n"
        },
        {
          "output_type": "stream",
          "name": "stdout",
          "text": "Val loss did not improve\nTrain Accuracy: 0.8469\nVal Accuracy: 0.7917\nTrain Loss: 0.3787\nVal Loss: 0.4423\nVal-Sensitivity. Abnormal : 0.9579, ACL: 0.5926, Meniscus: 0.8462\nVal-Specifity.   Abnormal : 0.6, ACL: 0.9545, Meniscus: 0.5882\n--------------------------------------------------------------------------------\nEpoch 22 of 50\nTraining...\n"
        },
        {
          "output_type": "stream",
          "name": "stderr",
          "text": "100%|██████████| 1130/1130 [01:50<00:00, 10.25it/s]\n"
        },
        {
          "output_type": "stream",
          "name": "stdout",
          "text": "Validating...\n"
        },
        {
          "output_type": "stream",
          "name": "stderr",
          "text": "100%|██████████| 120/120 [00:07<00:00, 15.92it/s]"
        },
        {
          "output_type": "stream",
          "name": "stdout",
          "text": "Val loss did not improve\n"
        },
        {
          "output_type": "stream",
          "name": "stderr",
          "text": "\n"
        }
      ]
    },
    {
      "cell_type": "markdown",
      "metadata": {
        "id": "hqIIbvm7OD89"
      },
      "source": [
        "## Andrew NG paper metrics (AUC)"
      ]
    },
    {
      "cell_type": "code",
      "source": [
        "MODEL_PATH = '/content/drive/MyDrive/Personal/Stanford_Knee_Dataset/mrnet_three_pretrained_models_non_frozen_weights_standarized_img_aug_gradcam_2022_01_28.pth'"
      ],
      "metadata": {
        "id": "_vmcnETyKsM4"
      },
      "execution_count": 38,
      "outputs": []
    },
    {
      "execution_count": 45,
      "cell_type": "code",
      "metadata": {
        "id": "EeO61mDOOD8_",
        "colab": {
          "base_uri": "https://localhost:8080/"
        },
        "outputId": "e73143a1-0e19-4439-d197-fbb0ac415248"
      },
      "source": [
        "model = torch.load(MODEL_PATH)\n"
      ],
      "outputs": [
        {
          "output_type": "stream",
          "name": "stderr",
          "text": [
            "/usr/local/lib/python3.7/dist-packages/torch/serialization.py:671: SourceChangeWarning: source code of class 'torch.nn.modules.container.Sequential' has changed. you can retrieve the original source code by accessing the object's source attribute or set `torch.nn.Module.dump_patches = True` and use the patch tool to revert the changes.\n",
            "  warnings.warn(msg, SourceChangeWarning)\n",
            "/usr/local/lib/python3.7/dist-packages/torch/serialization.py:671: SourceChangeWarning: source code of class 'torch.nn.modules.conv.Conv2d' has changed. you can retrieve the original source code by accessing the object's source attribute or set `torch.nn.Module.dump_patches = True` and use the patch tool to revert the changes.\n",
            "  warnings.warn(msg, SourceChangeWarning)\n",
            "/usr/local/lib/python3.7/dist-packages/torch/serialization.py:671: SourceChangeWarning: source code of class 'torch.nn.modules.activation.ReLU' has changed. you can retrieve the original source code by accessing the object's source attribute or set `torch.nn.Module.dump_patches = True` and use the patch tool to revert the changes.\n",
            "  warnings.warn(msg, SourceChangeWarning)\n",
            "/usr/local/lib/python3.7/dist-packages/torch/serialization.py:671: SourceChangeWarning: source code of class 'torch.nn.modules.pooling.MaxPool2d' has changed. you can retrieve the original source code by accessing the object's source attribute or set `torch.nn.Module.dump_patches = True` and use the patch tool to revert the changes.\n",
            "  warnings.warn(msg, SourceChangeWarning)\n",
            "/usr/local/lib/python3.7/dist-packages/torch/serialization.py:671: SourceChangeWarning: source code of class 'torch.nn.modules.pooling.AdaptiveAvgPool2d' has changed. you can retrieve the original source code by accessing the object's source attribute or set `torch.nn.Module.dump_patches = True` and use the patch tool to revert the changes.\n",
            "  warnings.warn(msg, SourceChangeWarning)\n",
            "/usr/local/lib/python3.7/dist-packages/torch/serialization.py:671: SourceChangeWarning: source code of class 'torch.nn.modules.linear.Linear' has changed. you can retrieve the original source code by accessing the object's source attribute or set `torch.nn.Module.dump_patches = True` and use the patch tool to revert the changes.\n",
            "  warnings.warn(msg, SourceChangeWarning)\n"
          ]
        }
      ]
    },
    {
      "execution_count": null,
      "cell_type": "code",
      "metadata": {
        "scrolled": true,
        "id": "TJC5x8ltOD8_",
        "outputId": "e8fe2882-6d62-48f3-f294-5e0adae0ca14"
      },
      "source": [
        "utils.get_auc(model, val_loader, 0, 'Abnormal', multiplane=True)\n",
        "utils.get_auc(model, val_loader, 1, 'ACL', multiplane=True)\n",
        "utils.get_auc(model, val_loader, 2, 'Meniscus', multiplane=True)"
      ],
      "outputs": [
        {
          "output_type": "stream",
          "name": "stderr",
          "text": "/data/dss_data/code-envs/python/imagen_gpu_conda_tf1152/lib/python3.6/site-packages/torch/nn/functional.py:1351: UserWarning: nn.functional.sigmoid is deprecated. Use torch.sigmoid instead.\n  warnings.warn(\"nn.functional.sigmoid is deprecated. Use torch.sigmoid instead.\")\n"
        },
        {
          "output_type": "stream",
          "name": "stdout",
          "text": "Abnormal AUC:  0.9157894736842105\nACL AUC:  0.9135802469135803\nMeniscus AUC:  0.7969457013574661\n"
        }
      ]
    },
    {
      "cell_type": "markdown",
      "metadata": {
        "id": "s_sPo8XwOD9A"
      },
      "source": [
        "# Predict Validation data"
      ]
    },
    {
      "execution_count": null,
      "cell_type": "code",
      "metadata": {
        "scrolled": true,
        "id": "_C1Z6KceOD9A",
        "outputId": "2ecd5445-1d69-4448-ac9e-6b7698b19045"
      },
      "source": [
        "model.eval()\n",
        "img_list    = []\n",
        "\n",
        "for i, (img, labels_chosen) in enumerate(val_loader):\n",
        "    img = [data.cuda() for data in img]\n",
        "    print(\"MRI #\",i)\n",
        "    print(\"-\"*80)\n",
        "    print(\"True labels: \", labels_chosen)\n",
        "    pred = model(img)\n",
        "    print(\"Labels predicted: \", torch.round(torch.sigmoid(pred)))\n",
        "    print(\"Labels predicted (proba.): \", torch.sigmoid(pred))\n",
        "    print(\"\\n\")"
      ],
      "outputs": [
        {
          "output_type": "stream",
          "name": "stdout",
          "text": "MRI # 0\n--------------------------------------------------------------------------------\nTrue labels:  tensor([[0., 0., 0.]])\nLabels predicted:  tensor([[0., 0., 0.]], device='cuda:0', grad_fn=<RoundBackward>)\nLabels predicted (proba.):  tensor([[0.0767, 0.0503, 0.0299]], device='cuda:0', grad_fn=<SigmoidBackward>)\n\n\nMRI # 1\n--------------------------------------------------------------------------------\nTrue labels:  tensor([[0., 0., 0.]])\nLabels predicted:  tensor([[0., 0., 0.]], device='cuda:0', grad_fn=<RoundBackward>)\nLabels predicted (proba.):  tensor([[0.0674, 0.0912, 0.0588]], device='cuda:0', grad_fn=<SigmoidBackward>)\n\n\nMRI # 2\n--------------------------------------------------------------------------------\nTrue labels:  tensor([[0., 0., 0.]])\nLabels predicted:  tensor([[0., 0., 0.]], device='cuda:0', grad_fn=<RoundBackward>)\nLabels predicted (proba.):  tensor([[0.1558, 0.0449, 0.1025]], device='cuda:0', grad_fn=<SigmoidBackward>)\n\n\nMRI # 3\n--------------------------------------------------------------------------------\nTrue labels:  tensor([[0., 0., 0.]])\nLabels predicted:  tensor([[0., 0., 0.]], device='cuda:0', grad_fn=<RoundBackward>)\nLabels predicted (proba.):  tensor([[0.0355, 0.0687, 0.0466]], device='cuda:0', grad_fn=<SigmoidBackward>)\n\n\nMRI # 4\n--------------------------------------------------------------------------------\nTrue labels:  tensor([[0., 0., 0.]])\nLabels predicted:  tensor([[0., 0., 0.]], device='cuda:0', grad_fn=<RoundBackward>)\nLabels predicted (proba.):  tensor([[0.4141, 0.1198, 0.1866]], device='cuda:0', grad_fn=<SigmoidBackward>)\n\n\nMRI # 5\n--------------------------------------------------------------------------------\nTrue labels:  tensor([[0., 0., 0.]])\nLabels predicted:  tensor([[1., 0., 0.]], device='cuda:0', grad_fn=<RoundBackward>)\nLabels predicted (proba.):  tensor([[0.5738, 0.2620, 0.4432]], device='cuda:0', grad_fn=<SigmoidBackward>)\n\n\nMRI # 6\n--------------------------------------------------------------------------------\nTrue labels:  tensor([[0., 0., 0.]])\nLabels predicted:  tensor([[0., 0., 0.]], device='cuda:0', grad_fn=<RoundBackward>)\nLabels predicted (proba.):  tensor([[0.3651, 0.0361, 0.0214]], device='cuda:0', grad_fn=<SigmoidBackward>)\n\n\nMRI # 7\n--------------------------------------------------------------------------------\nTrue labels:  tensor([[0., 0., 0.]])\nLabels predicted:  tensor([[1., 1., 1.]], device='cuda:0', grad_fn=<RoundBackward>)\nLabels predicted (proba.):  tensor([[0.8895, 0.6305, 0.6219]], device='cuda:0', grad_fn=<SigmoidBackward>)\n\n\nMRI # 8\n--------------------------------------------------------------------------------\nTrue labels:  tensor([[0., 0., 0.]])\nLabels predicted:  tensor([[0., 0., 0.]], device='cuda:0', grad_fn=<RoundBackward>)\nLabels predicted (proba.):  tensor([[0.2221, 0.4333, 0.1632]], device='cuda:0', grad_fn=<SigmoidBackward>)\n\n\nMRI # 9\n--------------------------------------------------------------------------------\nTrue labels:  tensor([[0., 0., 0.]])\nLabels predicted:  tensor([[0., 0., 0.]], device='cuda:0', grad_fn=<RoundBackward>)\nLabels predicted (proba.):  tensor([[0.1812, 0.0977, 0.1175]], device='cuda:0', grad_fn=<SigmoidBackward>)\n\n\nMRI # 10\n--------------------------------------------------------------------------------\nTrue labels:  tensor([[0., 0., 0.]])\nLabels predicted:  tensor([[1., 0., 0.]], device='cuda:0', grad_fn=<RoundBackward>)\nLabels predicted (proba.):  tensor([[0.5298, 0.2389, 0.2368]], device='cuda:0', grad_fn=<SigmoidBackward>)\n\n\nMRI # 11\n--------------------------------------------------------------------------------\nTrue labels:  tensor([[0., 0., 0.]])\nLabels predicted:  tensor([[1., 0., 0.]], device='cuda:0', grad_fn=<RoundBackward>)\nLabels predicted (proba.):  tensor([[0.7179, 0.1226, 0.3925]], device='cuda:0', grad_fn=<SigmoidBackward>)\n\n\nMRI # 12\n--------------------------------------------------------------------------------\nTrue labels:  tensor([[0., 0., 0.]])\nLabels predicted:  tensor([[0., 0., 0.]], device='cuda:0', grad_fn=<RoundBackward>)\nLabels predicted (proba.):  tensor([[0.4103, 0.1227, 0.1660]], device='cuda:0', grad_fn=<SigmoidBackward>)\n\n\nMRI # 13\n--------------------------------------------------------------------------------\nTrue labels:  tensor([[0., 0., 0.]])\nLabels predicted:  tensor([[0., 0., 0.]], device='cuda:0', grad_fn=<RoundBackward>)\nLabels predicted (proba.):  tensor([[0.3469, 0.1113, 0.1976]], device='cuda:0', grad_fn=<SigmoidBackward>)\n\n\nMRI # 14\n--------------------------------------------------------------------------------\nTrue labels:  tensor([[0., 0., 0.]])\nLabels predicted:  tensor([[1., 0., 0.]], device='cuda:0', grad_fn=<RoundBackward>)\nLabels predicted (proba.):  tensor([[0.6747, 0.1283, 0.2484]], device='cuda:0', grad_fn=<SigmoidBackward>)\n\n\nMRI # 15\n--------------------------------------------------------------------------------\nTrue labels:  tensor([[0., 0., 0.]])\nLabels predicted:  tensor([[1., 0., 0.]], device='cuda:0', grad_fn=<RoundBackward>)\nLabels predicted (proba.):  tensor([[0.5660, 0.1070, 0.2353]], device='cuda:0', grad_fn=<SigmoidBackward>)\n\n\nMRI # 16\n--------------------------------------------------------------------------------\nTrue labels:  tensor([[0., 0., 0.]])\nLabels predicted:  tensor([[0., 0., 0.]], device='cuda:0', grad_fn=<RoundBackward>)\nLabels predicted (proba.):  tensor([[0.0418, 0.0618, 0.0435]], device='cuda:0', grad_fn=<SigmoidBackward>)\n\n\nMRI # 17\n--------------------------------------------------------------------------------\nTrue labels:  tensor([[0., 0., 0.]])\nLabels predicted:  tensor([[0., 0., 0.]], device='cuda:0', grad_fn=<RoundBackward>)\nLabels predicted (proba.):  tensor([[0.0963, 0.1731, 0.0412]], device='cuda:0', grad_fn=<SigmoidBackward>)\n\n\nMRI # 18\n--------------------------------------------------------------------------------\nTrue labels:  tensor([[0., 0., 0.]])\nLabels predicted:  tensor([[0., 0., 0.]], device='cuda:0', grad_fn=<RoundBackward>)\nLabels predicted (proba.):  tensor([[0.4970, 0.0725, 0.1656]], device='cuda:0', grad_fn=<SigmoidBackward>)\n\n\nMRI # 19\n--------------------------------------------------------------------------------\nTrue labels:  tensor([[0., 0., 0.]])\nLabels predicted:  tensor([[0., 0., 0.]], device='cuda:0', grad_fn=<RoundBackward>)\nLabels predicted (proba.):  tensor([[0.1570, 0.1558, 0.1294]], device='cuda:0', grad_fn=<SigmoidBackward>)\n\n\nMRI # 20\n--------------------------------------------------------------------------------\nTrue labels:  tensor([[0., 0., 0.]])\nLabels predicted:  tensor([[0., 0., 0.]], device='cuda:0', grad_fn=<RoundBackward>)\nLabels predicted (proba.):  tensor([[0.4005, 0.2656, 0.2300]], device='cuda:0', grad_fn=<SigmoidBackward>)\n\n\nMRI # 21\n--------------------------------------------------------------------------------\nTrue labels:  tensor([[0., 0., 0.]])\nLabels predicted:  tensor([[1., 0., 0.]], device='cuda:0', grad_fn=<RoundBackward>)\nLabels predicted (proba.):  tensor([[0.7592, 0.0698, 0.1996]], device='cuda:0', grad_fn=<SigmoidBackward>)\n\n\nMRI # 22\n--------------------------------------------------------------------------------\nTrue labels:  tensor([[0., 0., 0.]])\nLabels predicted:  tensor([[0., 0., 0.]], device='cuda:0', grad_fn=<RoundBackward>)\nLabels predicted (proba.):  tensor([[0.3353, 0.1134, 0.0970]], device='cuda:0', grad_fn=<SigmoidBackward>)\n\n\nMRI # 23\n--------------------------------------------------------------------------------\nTrue labels:  tensor([[0., 0., 0.]])\nLabels predicted:  tensor([[0., 0., 0.]], device='cuda:0', grad_fn=<RoundBackward>)\nLabels predicted (proba.):  tensor([[0.0262, 0.0573, 0.0232]], device='cuda:0', grad_fn=<SigmoidBackward>)\n\n\nMRI # 24\n--------------------------------------------------------------------------------\nTrue labels:  tensor([[1., 0., 0.]])\nLabels predicted:  tensor([[0., 0., 0.]], device='cuda:0', grad_fn=<RoundBackward>)\nLabels predicted (proba.):  tensor([[0.3294, 0.0600, 0.2719]], device='cuda:0', grad_fn=<SigmoidBackward>)\n\n\nMRI # 25\n--------------------------------------------------------------------------------\nTrue labels:  tensor([[1., 0., 0.]])\nLabels predicted:  tensor([[1., 0., 0.]], device='cuda:0', grad_fn=<RoundBackward>)\nLabels predicted (proba.):  tensor([[0.8850, 0.1265, 0.3318]], device='cuda:0', grad_fn=<SigmoidBackward>)\n\n\n"
        },
        {
          "output_type": "stream",
          "name": "stdout",
          "text": "MRI # 26\n--------------------------------------------------------------------------------\nTrue labels:  tensor([[1., 0., 0.]])\nLabels predicted:  tensor([[1., 0., 0.]], device='cuda:0', grad_fn=<RoundBackward>)\nLabels predicted (proba.):  tensor([[0.7542, 0.2289, 0.4040]], device='cuda:0', grad_fn=<SigmoidBackward>)\n\n\nMRI # 27\n--------------------------------------------------------------------------------\nTrue labels:  tensor([[1., 0., 0.]])\nLabels predicted:  tensor([[0., 0., 0.]], device='cuda:0', grad_fn=<RoundBackward>)\nLabels predicted (proba.):  tensor([[0.2547, 0.1112, 0.1120]], device='cuda:0', grad_fn=<SigmoidBackward>)\n\n\nMRI # 28\n--------------------------------------------------------------------------------\nTrue labels:  tensor([[1., 0., 0.]])\nLabels predicted:  tensor([[1., 0., 0.]], device='cuda:0', grad_fn=<RoundBackward>)\nLabels predicted (proba.):  tensor([[0.8005, 0.1108, 0.2779]], device='cuda:0', grad_fn=<SigmoidBackward>)\n\n\nMRI # 29\n--------------------------------------------------------------------------------\nTrue labels:  tensor([[1., 0., 0.]])\nLabels predicted:  tensor([[1., 0., 0.]], device='cuda:0', grad_fn=<RoundBackward>)\nLabels predicted (proba.):  tensor([[0.5505, 0.1904, 0.2231]], device='cuda:0', grad_fn=<SigmoidBackward>)\n\n\nMRI # 30\n--------------------------------------------------------------------------------\nTrue labels:  tensor([[1., 0., 0.]])\nLabels predicted:  tensor([[1., 0., 1.]], device='cuda:0', grad_fn=<RoundBackward>)\nLabels predicted (proba.):  tensor([[0.8694, 0.2547, 0.5366]], device='cuda:0', grad_fn=<SigmoidBackward>)\n\n\nMRI # 31\n--------------------------------------------------------------------------------\nTrue labels:  tensor([[1., 0., 0.]])\nLabels predicted:  tensor([[0., 0., 0.]], device='cuda:0', grad_fn=<RoundBackward>)\nLabels predicted (proba.):  tensor([[0.4732, 0.2647, 0.2123]], device='cuda:0', grad_fn=<SigmoidBackward>)\n\n\nMRI # 32\n--------------------------------------------------------------------------------\nTrue labels:  tensor([[1., 0., 0.]])\nLabels predicted:  tensor([[1., 1., 1.]], device='cuda:0', grad_fn=<RoundBackward>)\nLabels predicted (proba.):  tensor([[0.9599, 0.8457, 0.6324]], device='cuda:0', grad_fn=<SigmoidBackward>)\n\n\nMRI # 33\n--------------------------------------------------------------------------------\nTrue labels:  tensor([[1., 0., 0.]])\nLabels predicted:  tensor([[1., 0., 0.]], device='cuda:0', grad_fn=<RoundBackward>)\nLabels predicted (proba.):  tensor([[0.9148, 0.3396, 0.3672]], device='cuda:0', grad_fn=<SigmoidBackward>)\n\n\nMRI # 34\n--------------------------------------------------------------------------------\nTrue labels:  tensor([[1., 0., 0.]])\nLabels predicted:  tensor([[0., 0., 0.]], device='cuda:0', grad_fn=<RoundBackward>)\nLabels predicted (proba.):  tensor([[0.0863, 0.0982, 0.0256]], device='cuda:0', grad_fn=<SigmoidBackward>)\n\n\nMRI # 35\n--------------------------------------------------------------------------------\nTrue labels:  tensor([[1., 0., 0.]])\nLabels predicted:  tensor([[0., 0., 0.]], device='cuda:0', grad_fn=<RoundBackward>)\nLabels predicted (proba.):  tensor([[0.3645, 0.1159, 0.1246]], device='cuda:0', grad_fn=<SigmoidBackward>)\n\n\nMRI # 36\n--------------------------------------------------------------------------------\nTrue labels:  tensor([[1., 0., 0.]])\nLabels predicted:  tensor([[1., 0., 0.]], device='cuda:0', grad_fn=<RoundBackward>)\nLabels predicted (proba.):  tensor([[0.7449, 0.0977, 0.3384]], device='cuda:0', grad_fn=<SigmoidBackward>)\n\n\nMRI # 37\n--------------------------------------------------------------------------------\nTrue labels:  tensor([[1., 0., 0.]])\nLabels predicted:  tensor([[1., 0., 0.]], device='cuda:0', grad_fn=<RoundBackward>)\nLabels predicted (proba.):  tensor([[0.6941, 0.1441, 0.3563]], device='cuda:0', grad_fn=<SigmoidBackward>)\n\n\nMRI # 38\n--------------------------------------------------------------------------------\nTrue labels:  tensor([[1., 0., 0.]])\nLabels predicted:  tensor([[1., 0., 0.]], device='cuda:0', grad_fn=<RoundBackward>)\nLabels predicted (proba.):  tensor([[0.5351, 0.1610, 0.2811]], device='cuda:0', grad_fn=<SigmoidBackward>)\n\n\nMRI # 39\n--------------------------------------------------------------------------------\nTrue labels:  tensor([[1., 0., 0.]])\nLabels predicted:  tensor([[1., 0., 1.]], device='cuda:0', grad_fn=<RoundBackward>)\nLabels predicted (proba.):  tensor([[0.8715, 0.3413, 0.5769]], device='cuda:0', grad_fn=<SigmoidBackward>)\n\n\nMRI # 40\n--------------------------------------------------------------------------------\nTrue labels:  tensor([[1., 0., 0.]])\nLabels predicted:  tensor([[1., 0., 0.]], device='cuda:0', grad_fn=<RoundBackward>)\nLabels predicted (proba.):  tensor([[0.7518, 0.3209, 0.3855]], device='cuda:0', grad_fn=<SigmoidBackward>)\n\n\nMRI # 41\n--------------------------------------------------------------------------------\nTrue labels:  tensor([[1., 0., 0.]])\nLabels predicted:  tensor([[1., 1., 1.]], device='cuda:0', grad_fn=<RoundBackward>)\nLabels predicted (proba.):  tensor([[0.9605, 0.5251, 0.5594]], device='cuda:0', grad_fn=<SigmoidBackward>)\n\n\nMRI # 42\n--------------------------------------------------------------------------------\nTrue labels:  tensor([[1., 1., 1.]])\nLabels predicted:  tensor([[1., 0., 0.]], device='cuda:0', grad_fn=<RoundBackward>)\nLabels predicted (proba.):  tensor([[0.6248, 0.4110, 0.3169]], device='cuda:0', grad_fn=<SigmoidBackward>)\n\n\nMRI # 43\n--------------------------------------------------------------------------------\nTrue labels:  tensor([[1., 1., 1.]])\nLabels predicted:  tensor([[1., 1., 0.]], device='cuda:0', grad_fn=<RoundBackward>)\nLabels predicted (proba.):  tensor([[0.9369, 0.5997, 0.4314]], device='cuda:0', grad_fn=<SigmoidBackward>)\n\n\nMRI # 44\n--------------------------------------------------------------------------------\nTrue labels:  tensor([[1., 1., 1.]])\nLabels predicted:  tensor([[1., 1., 1.]], device='cuda:0', grad_fn=<RoundBackward>)\nLabels predicted (proba.):  tensor([[0.9478, 0.7856, 0.6180]], device='cuda:0', grad_fn=<SigmoidBackward>)\n\n\nMRI # 45\n--------------------------------------------------------------------------------\nTrue labels:  tensor([[1., 1., 0.]])\nLabels predicted:  tensor([[1., 1., 0.]], device='cuda:0', grad_fn=<RoundBackward>)\nLabels predicted (proba.):  tensor([[0.7560, 0.7087, 0.3825]], device='cuda:0', grad_fn=<SigmoidBackward>)\n\n\nMRI # 46\n--------------------------------------------------------------------------------\nTrue labels:  tensor([[1., 1., 1.]])\nLabels predicted:  tensor([[1., 1., 1.]], device='cuda:0', grad_fn=<RoundBackward>)\nLabels predicted (proba.):  tensor([[0.9509, 0.8731, 0.6460]], device='cuda:0', grad_fn=<SigmoidBackward>)\n\n\nMRI # 47\n--------------------------------------------------------------------------------\nTrue labels:  tensor([[1., 1., 0.]])\nLabels predicted:  tensor([[1., 1., 0.]], device='cuda:0', grad_fn=<RoundBackward>)\nLabels predicted (proba.):  tensor([[0.7546, 0.7886, 0.3080]], device='cuda:0', grad_fn=<SigmoidBackward>)\n\n\nMRI # 48\n--------------------------------------------------------------------------------\nTrue labels:  tensor([[1., 1., 0.]])\nLabels predicted:  tensor([[1., 0., 0.]], device='cuda:0', grad_fn=<RoundBackward>)\nLabels predicted (proba.):  tensor([[0.8738, 0.2420, 0.4751]], device='cuda:0', grad_fn=<SigmoidBackward>)\n\n\nMRI # 49\n--------------------------------------------------------------------------------\nTrue labels:  tensor([[1., 1., 0.]])\nLabels predicted:  tensor([[1., 1., 0.]], device='cuda:0', grad_fn=<RoundBackward>)\nLabels predicted (proba.):  tensor([[0.7929, 0.8659, 0.3305]], device='cuda:0', grad_fn=<SigmoidBackward>)\n\n\nMRI # 50\n--------------------------------------------------------------------------------\nTrue labels:  tensor([[1., 0., 0.]])\nLabels predicted:  tensor([[1., 0., 1.]], device='cuda:0', grad_fn=<RoundBackward>)\nLabels predicted (proba.):  tensor([[0.8984, 0.1221, 0.5933]], device='cuda:0', grad_fn=<SigmoidBackward>)\n\n\nMRI # 51\n--------------------------------------------------------------------------------\nTrue labels:  tensor([[1., 1., 0.]])\nLabels predicted:  tensor([[1., 0., 1.]], device='cuda:0', grad_fn=<RoundBackward>)\nLabels predicted (proba.):  tensor([[0.8708, 0.4326, 0.6240]], device='cuda:0', grad_fn=<SigmoidBackward>)\n\n\n"
        },
        {
          "output_type": "stream",
          "name": "stdout",
          "text": "MRI # 52\n--------------------------------------------------------------------------------\nTrue labels:  tensor([[1., 1., 0.]])\nLabels predicted:  tensor([[1., 1., 0.]], device='cuda:0', grad_fn=<RoundBackward>)\nLabels predicted (proba.):  tensor([[0.8081, 0.9364, 0.3634]], device='cuda:0', grad_fn=<SigmoidBackward>)\n\n\nMRI # 53\n--------------------------------------------------------------------------------\nTrue labels:  tensor([[1., 1., 0.]])\nLabels predicted:  tensor([[1., 0., 1.]], device='cuda:0', grad_fn=<RoundBackward>)\nLabels predicted (proba.):  tensor([[0.8870, 0.1413, 0.5451]], device='cuda:0', grad_fn=<SigmoidBackward>)\n\n\nMRI # 54\n--------------------------------------------------------------------------------\nTrue labels:  tensor([[1., 1., 1.]])\nLabels predicted:  tensor([[1., 1., 1.]], device='cuda:0', grad_fn=<RoundBackward>)\nLabels predicted (proba.):  tensor([[0.9542, 0.8870, 0.7905]], device='cuda:0', grad_fn=<SigmoidBackward>)\n\n\nMRI # 55\n--------------------------------------------------------------------------------\nTrue labels:  tensor([[1., 1., 0.]])\nLabels predicted:  tensor([[1., 1., 0.]], device='cuda:0', grad_fn=<RoundBackward>)\nLabels predicted (proba.):  tensor([[0.8337, 0.8682, 0.4182]], device='cuda:0', grad_fn=<SigmoidBackward>)\n\n\nMRI # 56\n--------------------------------------------------------------------------------\nTrue labels:  tensor([[1., 1., 1.]])\nLabels predicted:  tensor([[1., 1., 1.]], device='cuda:0', grad_fn=<RoundBackward>)\nLabels predicted (proba.):  tensor([[0.9225, 0.7866, 0.5575]], device='cuda:0', grad_fn=<SigmoidBackward>)\n\n\nMRI # 57\n--------------------------------------------------------------------------------\nTrue labels:  tensor([[1., 1., 0.]])\nLabels predicted:  tensor([[1., 0., 1.]], device='cuda:0', grad_fn=<RoundBackward>)\nLabels predicted (proba.):  tensor([[0.9816, 0.0877, 0.7557]], device='cuda:0', grad_fn=<SigmoidBackward>)\n\n\nMRI # 58\n--------------------------------------------------------------------------------\nTrue labels:  tensor([[1., 1., 1.]])\nLabels predicted:  tensor([[1., 1., 1.]], device='cuda:0', grad_fn=<RoundBackward>)\nLabels predicted (proba.):  tensor([[0.9797, 0.9438, 0.8219]], device='cuda:0', grad_fn=<SigmoidBackward>)\n\n\nMRI # 59\n--------------------------------------------------------------------------------\nTrue labels:  tensor([[1., 0., 0.]])\nLabels predicted:  tensor([[1., 1., 1.]], device='cuda:0', grad_fn=<RoundBackward>)\nLabels predicted (proba.):  tensor([[0.8587, 0.5892, 0.5778]], device='cuda:0', grad_fn=<SigmoidBackward>)\n\n\nMRI # 60\n--------------------------------------------------------------------------------\nTrue labels:  tensor([[1., 1., 0.]])\nLabels predicted:  tensor([[1., 1., 0.]], device='cuda:0', grad_fn=<RoundBackward>)\nLabels predicted (proba.):  tensor([[0.7857, 0.8950, 0.4263]], device='cuda:0', grad_fn=<SigmoidBackward>)\n\n\nMRI # 61\n--------------------------------------------------------------------------------\nTrue labels:  tensor([[1., 1., 1.]])\nLabels predicted:  tensor([[1., 1., 1.]], device='cuda:0', grad_fn=<RoundBackward>)\nLabels predicted (proba.):  tensor([[0.9772, 0.8742, 0.7947]], device='cuda:0', grad_fn=<SigmoidBackward>)\n\n\nMRI # 62\n--------------------------------------------------------------------------------\nTrue labels:  tensor([[1., 1., 1.]])\nLabels predicted:  tensor([[1., 0., 1.]], device='cuda:0', grad_fn=<RoundBackward>)\nLabels predicted (proba.):  tensor([[0.9347, 0.4059, 0.7532]], device='cuda:0', grad_fn=<SigmoidBackward>)\n\n\nMRI # 63\n--------------------------------------------------------------------------------\nTrue labels:  tensor([[1., 1., 0.]])\nLabels predicted:  tensor([[1., 1., 1.]], device='cuda:0', grad_fn=<RoundBackward>)\nLabels predicted (proba.):  tensor([[0.8475, 0.8140, 0.7704]], device='cuda:0', grad_fn=<SigmoidBackward>)\n\n\nMRI # 64\n--------------------------------------------------------------------------------\nTrue labels:  tensor([[1., 1., 1.]])\nLabels predicted:  tensor([[1., 0., 1.]], device='cuda:0', grad_fn=<RoundBackward>)\nLabels predicted (proba.):  tensor([[0.9812, 0.3509, 0.7820]], device='cuda:0', grad_fn=<SigmoidBackward>)\n\n\nMRI # 65\n--------------------------------------------------------------------------------\nTrue labels:  tensor([[1., 1., 1.]])\nLabels predicted:  tensor([[1., 0., 0.]], device='cuda:0', grad_fn=<RoundBackward>)\nLabels predicted (proba.):  tensor([[0.8615, 0.4863, 0.3106]], device='cuda:0', grad_fn=<SigmoidBackward>)\n\n\nMRI # 66\n--------------------------------------------------------------------------------\nTrue labels:  tensor([[1., 1., 1.]])\nLabels predicted:  tensor([[1., 1., 1.]], device='cuda:0', grad_fn=<RoundBackward>)\nLabels predicted (proba.):  tensor([[0.9935, 0.5376, 0.8405]], device='cuda:0', grad_fn=<SigmoidBackward>)\n\n\nMRI # 67\n--------------------------------------------------------------------------------\nTrue labels:  tensor([[1., 1., 1.]])\nLabels predicted:  tensor([[0., 0., 0.]], device='cuda:0', grad_fn=<RoundBackward>)\nLabels predicted (proba.):  tensor([[0.2880, 0.4862, 0.2465]], device='cuda:0', grad_fn=<SigmoidBackward>)\n\n\nMRI # 68\n--------------------------------------------------------------------------------\nTrue labels:  tensor([[1., 1., 0.]])\nLabels predicted:  tensor([[1., 1., 1.]], device='cuda:0', grad_fn=<RoundBackward>)\nLabels predicted (proba.):  tensor([[0.9662, 0.9320, 0.8015]], device='cuda:0', grad_fn=<SigmoidBackward>)\n\n\nMRI # 69\n--------------------------------------------------------------------------------\nTrue labels:  tensor([[1., 1., 1.]])\nLabels predicted:  tensor([[1., 1., 1.]], device='cuda:0', grad_fn=<RoundBackward>)\nLabels predicted (proba.):  tensor([[0.9003, 0.9111, 0.5416]], device='cuda:0', grad_fn=<SigmoidBackward>)\n\n\nMRI # 70\n--------------------------------------------------------------------------------\nTrue labels:  tensor([[1., 1., 0.]])\nLabels predicted:  tensor([[0., 1., 0.]], device='cuda:0', grad_fn=<RoundBackward>)\nLabels predicted (proba.):  tensor([[0.2493, 0.5826, 0.1583]], device='cuda:0', grad_fn=<SigmoidBackward>)\n\n\nMRI # 71\n--------------------------------------------------------------------------------\nTrue labels:  tensor([[1., 1., 1.]])\nLabels predicted:  tensor([[1., 1., 1.]], device='cuda:0', grad_fn=<RoundBackward>)\nLabels predicted (proba.):  tensor([[0.8101, 0.8387, 0.6717]], device='cuda:0', grad_fn=<SigmoidBackward>)\n\n\nMRI # 72\n--------------------------------------------------------------------------------\nTrue labels:  tensor([[1., 1., 1.]])\nLabels predicted:  tensor([[1., 1., 1.]], device='cuda:0', grad_fn=<RoundBackward>)\nLabels predicted (proba.):  tensor([[0.9385, 0.9142, 0.5053]], device='cuda:0', grad_fn=<SigmoidBackward>)\n\n\nMRI # 73\n--------------------------------------------------------------------------------\nTrue labels:  tensor([[1., 1., 1.]])\nLabels predicted:  tensor([[1., 1., 1.]], device='cuda:0', grad_fn=<RoundBackward>)\nLabels predicted (proba.):  tensor([[0.9867, 0.9075, 0.8044]], device='cuda:0', grad_fn=<SigmoidBackward>)\n\n\nMRI # 74\n--------------------------------------------------------------------------------\nTrue labels:  tensor([[1., 1., 0.]])\nLabels predicted:  tensor([[1., 1., 1.]], device='cuda:0', grad_fn=<RoundBackward>)\nLabels predicted (proba.):  tensor([[0.9823, 0.8685, 0.8223]], device='cuda:0', grad_fn=<SigmoidBackward>)\n\n\nMRI # 75\n--------------------------------------------------------------------------------\nTrue labels:  tensor([[1., 1., 1.]])\nLabels predicted:  tensor([[1., 1., 1.]], device='cuda:0', grad_fn=<RoundBackward>)\nLabels predicted (proba.):  tensor([[0.9765, 0.5955, 0.6968]], device='cuda:0', grad_fn=<SigmoidBackward>)\n\n\nMRI # 76\n--------------------------------------------------------------------------------\nTrue labels:  tensor([[1., 1., 0.]])\nLabels predicted:  tensor([[1., 1., 1.]], device='cuda:0', grad_fn=<RoundBackward>)\nLabels predicted (proba.):  tensor([[0.9575, 0.7406, 0.5512]], device='cuda:0', grad_fn=<SigmoidBackward>)\n\n\nMRI # 77\n--------------------------------------------------------------------------------\nTrue labels:  tensor([[1., 1., 1.]])\nLabels predicted:  tensor([[1., 1., 1.]], device='cuda:0', grad_fn=<RoundBackward>)\nLabels predicted (proba.):  tensor([[0.8996, 0.9429, 0.5567]], device='cuda:0', grad_fn=<SigmoidBackward>)\n\n\nMRI # 78\n--------------------------------------------------------------------------------\nTrue labels:  tensor([[1., 1., 0.]])\n"
        },
        {
          "output_type": "stream",
          "name": "stdout",
          "text": "Labels predicted:  tensor([[1., 1., 0.]], device='cuda:0', grad_fn=<RoundBackward>)\nLabels predicted (proba.):  tensor([[0.7193, 0.6634, 0.4735]], device='cuda:0', grad_fn=<SigmoidBackward>)\n\n\nMRI # 79\n--------------------------------------------------------------------------------\nTrue labels:  tensor([[1., 1., 0.]])\nLabels predicted:  tensor([[1., 1., 1.]], device='cuda:0', grad_fn=<RoundBackward>)\nLabels predicted (proba.):  tensor([[0.9198, 0.9200, 0.5984]], device='cuda:0', grad_fn=<SigmoidBackward>)\n\n\nMRI # 80\n--------------------------------------------------------------------------------\nTrue labels:  tensor([[1., 1., 0.]])\nLabels predicted:  tensor([[1., 1., 1.]], device='cuda:0', grad_fn=<RoundBackward>)\nLabels predicted (proba.):  tensor([[0.9517, 0.8896, 0.6525]], device='cuda:0', grad_fn=<SigmoidBackward>)\n\n\nMRI # 81\n--------------------------------------------------------------------------------\nTrue labels:  tensor([[1., 1., 1.]])\nLabels predicted:  tensor([[1., 1., 1.]], device='cuda:0', grad_fn=<RoundBackward>)\nLabels predicted (proba.):  tensor([[0.9927, 0.6354, 0.8916]], device='cuda:0', grad_fn=<SigmoidBackward>)\n\n\nMRI # 82\n--------------------------------------------------------------------------------\nTrue labels:  tensor([[1., 1., 0.]])\nLabels predicted:  tensor([[1., 1., 1.]], device='cuda:0', grad_fn=<RoundBackward>)\nLabels predicted (proba.):  tensor([[0.6523, 0.5702, 0.5235]], device='cuda:0', grad_fn=<SigmoidBackward>)\n\n\nMRI # 83\n--------------------------------------------------------------------------------\nTrue labels:  tensor([[1., 1., 1.]])\nLabels predicted:  tensor([[1., 1., 1.]], device='cuda:0', grad_fn=<RoundBackward>)\nLabels predicted (proba.):  tensor([[0.9765, 0.8399, 0.6385]], device='cuda:0', grad_fn=<SigmoidBackward>)\n\n\nMRI # 84\n--------------------------------------------------------------------------------\nTrue labels:  tensor([[1., 1., 0.]])\nLabels predicted:  tensor([[1., 1., 1.]], device='cuda:0', grad_fn=<RoundBackward>)\nLabels predicted (proba.):  tensor([[0.9560, 0.7011, 0.7090]], device='cuda:0', grad_fn=<SigmoidBackward>)\n\n\nMRI # 85\n--------------------------------------------------------------------------------\nTrue labels:  tensor([[1., 1., 0.]])\nLabels predicted:  tensor([[1., 1., 0.]], device='cuda:0', grad_fn=<RoundBackward>)\nLabels predicted (proba.):  tensor([[0.6646, 0.7758, 0.4102]], device='cuda:0', grad_fn=<SigmoidBackward>)\n\n\nMRI # 86\n--------------------------------------------------------------------------------\nTrue labels:  tensor([[1., 1., 1.]])\nLabels predicted:  tensor([[1., 0., 1.]], device='cuda:0', grad_fn=<RoundBackward>)\nLabels predicted (proba.):  tensor([[0.8628, 0.2476, 0.5502]], device='cuda:0', grad_fn=<SigmoidBackward>)\n\n\nMRI # 87\n--------------------------------------------------------------------------------\nTrue labels:  tensor([[0., 0., 0.]])\nLabels predicted:  tensor([[0., 0., 0.]], device='cuda:0', grad_fn=<RoundBackward>)\nLabels predicted (proba.):  tensor([[0.1235, 0.0830, 0.0335]], device='cuda:0', grad_fn=<SigmoidBackward>)\n\n\nMRI # 88\n--------------------------------------------------------------------------------\nTrue labels:  tensor([[1., 1., 0.]])\nLabels predicted:  tensor([[0., 0., 0.]], device='cuda:0', grad_fn=<RoundBackward>)\nLabels predicted (proba.):  tensor([[0.3905, 0.1773, 0.1384]], device='cuda:0', grad_fn=<SigmoidBackward>)\n\n\nMRI # 89\n--------------------------------------------------------------------------------\nTrue labels:  tensor([[1., 1., 0.]])\nLabels predicted:  tensor([[1., 0., 0.]], device='cuda:0', grad_fn=<RoundBackward>)\nLabels predicted (proba.):  tensor([[0.8814, 0.2785, 0.3165]], device='cuda:0', grad_fn=<SigmoidBackward>)\n\n\nMRI # 90\n--------------------------------------------------------------------------------\nTrue labels:  tensor([[1., 1., 1.]])\nLabels predicted:  tensor([[1., 1., 1.]], device='cuda:0', grad_fn=<RoundBackward>)\nLabels predicted (proba.):  tensor([[0.8192, 0.9128, 0.6605]], device='cuda:0', grad_fn=<SigmoidBackward>)\n\n\nMRI # 91\n--------------------------------------------------------------------------------\nTrue labels:  tensor([[1., 0., 1.]])\nLabels predicted:  tensor([[1., 0., 1.]], device='cuda:0', grad_fn=<RoundBackward>)\nLabels predicted (proba.):  tensor([[0.9898, 0.2922, 0.8669]], device='cuda:0', grad_fn=<SigmoidBackward>)\n\n\nMRI # 92\n--------------------------------------------------------------------------------\nTrue labels:  tensor([[1., 0., 1.]])\nLabels predicted:  tensor([[1., 0., 1.]], device='cuda:0', grad_fn=<RoundBackward>)\nLabels predicted (proba.):  tensor([[0.9102, 0.1447, 0.6427]], device='cuda:0', grad_fn=<SigmoidBackward>)\n\n\nMRI # 93\n--------------------------------------------------------------------------------\nTrue labels:  tensor([[1., 0., 1.]])\nLabels predicted:  tensor([[1., 1., 1.]], device='cuda:0', grad_fn=<RoundBackward>)\nLabels predicted (proba.):  tensor([[0.9857, 0.5396, 0.8184]], device='cuda:0', grad_fn=<SigmoidBackward>)\n\n\nMRI # 94\n--------------------------------------------------------------------------------\nTrue labels:  tensor([[1., 1., 1.]])\nLabels predicted:  tensor([[1., 1., 1.]], device='cuda:0', grad_fn=<RoundBackward>)\nLabels predicted (proba.):  tensor([[0.9728, 0.7775, 0.7845]], device='cuda:0', grad_fn=<SigmoidBackward>)\n\n\nMRI # 95\n--------------------------------------------------------------------------------\nTrue labels:  tensor([[1., 1., 1.]])\nLabels predicted:  tensor([[1., 1., 0.]], device='cuda:0', grad_fn=<RoundBackward>)\nLabels predicted (proba.):  tensor([[0.7200, 0.9083, 0.4278]], device='cuda:0', grad_fn=<SigmoidBackward>)\n\n\nMRI # 96\n--------------------------------------------------------------------------------\nTrue labels:  tensor([[1., 0., 1.]])\nLabels predicted:  tensor([[1., 0., 1.]], device='cuda:0', grad_fn=<RoundBackward>)\nLabels predicted (proba.):  tensor([[0.9691, 0.2187, 0.7033]], device='cuda:0', grad_fn=<SigmoidBackward>)\n\n\nMRI # 97\n--------------------------------------------------------------------------------\nTrue labels:  tensor([[1., 0., 1.]])\nLabels predicted:  tensor([[1., 0., 1.]], device='cuda:0', grad_fn=<RoundBackward>)\nLabels predicted (proba.):  tensor([[0.9547, 0.4320, 0.8683]], device='cuda:0', grad_fn=<SigmoidBackward>)\n\n\nMRI # 98\n--------------------------------------------------------------------------------\nTrue labels:  tensor([[1., 1., 1.]])\nLabels predicted:  tensor([[1., 1., 1.]], device='cuda:0', grad_fn=<RoundBackward>)\nLabels predicted (proba.):  tensor([[0.8708, 0.7016, 0.5207]], device='cuda:0', grad_fn=<SigmoidBackward>)\n\n\nMRI # 99\n--------------------------------------------------------------------------------\nTrue labels:  tensor([[1., 1., 1.]])\nLabels predicted:  tensor([[1., 1., 1.]], device='cuda:0', grad_fn=<RoundBackward>)\nLabels predicted (proba.):  tensor([[0.8562, 0.7198, 0.5874]], device='cuda:0', grad_fn=<SigmoidBackward>)\n\n\nMRI # 100\n--------------------------------------------------------------------------------\nTrue labels:  tensor([[1., 0., 1.]])\nLabels predicted:  tensor([[1., 0., 1.]], device='cuda:0', grad_fn=<RoundBackward>)\nLabels predicted (proba.):  tensor([[0.9817, 0.3581, 0.8192]], device='cuda:0', grad_fn=<SigmoidBackward>)\n\n\nMRI # 101\n--------------------------------------------------------------------------------\nTrue labels:  tensor([[1., 0., 1.]])\nLabels predicted:  tensor([[1., 0., 1.]], device='cuda:0', grad_fn=<RoundBackward>)\nLabels predicted (proba.):  tensor([[0.9888, 0.4030, 0.8256]], device='cuda:0', grad_fn=<SigmoidBackward>)\n\n\nMRI # 102\n--------------------------------------------------------------------------------\nTrue labels:  tensor([[1., 0., 1.]])\nLabels predicted:  tensor([[1., 0., 1.]], device='cuda:0', grad_fn=<RoundBackward>)\nLabels predicted (proba.):  tensor([[0.9725, 0.3046, 0.7779]], device='cuda:0', grad_fn=<SigmoidBackward>)\n\n\nMRI # 103\n--------------------------------------------------------------------------------\nTrue labels:  tensor([[1., 0., 1.]])\nLabels predicted:  tensor([[1., 0., 1.]], device='cuda:0', grad_fn=<RoundBackward>)\nLabels predicted (proba.):  tensor([[0.9245, 0.1359, 0.6621]], device='cuda:0', grad_fn=<SigmoidBackward>)\n\n\nMRI # 104\n--------------------------------------------------------------------------------\nTrue labels:  tensor([[1., 0., 1.]])\n"
        },
        {
          "output_type": "stream",
          "name": "stdout",
          "text": "Labels predicted:  tensor([[1., 1., 1.]], device='cuda:0', grad_fn=<RoundBackward>)\nLabels predicted (proba.):  tensor([[0.7875, 0.7400, 0.5427]], device='cuda:0', grad_fn=<SigmoidBackward>)\n\n\nMRI # 105\n--------------------------------------------------------------------------------\nTrue labels:  tensor([[1., 0., 1.]])\nLabels predicted:  tensor([[1., 0., 1.]], device='cuda:0', grad_fn=<RoundBackward>)\nLabels predicted (proba.):  tensor([[0.9633, 0.4451, 0.7888]], device='cuda:0', grad_fn=<SigmoidBackward>)\n\n\nMRI # 106\n--------------------------------------------------------------------------------\nTrue labels:  tensor([[1., 0., 1.]])\nLabels predicted:  tensor([[1., 0., 0.]], device='cuda:0', grad_fn=<RoundBackward>)\nLabels predicted (proba.):  tensor([[0.7789, 0.2056, 0.4312]], device='cuda:0', grad_fn=<SigmoidBackward>)\n\n\nMRI # 107\n--------------------------------------------------------------------------------\nTrue labels:  tensor([[1., 1., 1.]])\nLabels predicted:  tensor([[1., 0., 0.]], device='cuda:0', grad_fn=<RoundBackward>)\nLabels predicted (proba.):  tensor([[0.8887, 0.4355, 0.4902]], device='cuda:0', grad_fn=<SigmoidBackward>)\n\n\nMRI # 108\n--------------------------------------------------------------------------------\nTrue labels:  tensor([[1., 0., 1.]])\nLabels predicted:  tensor([[1., 0., 0.]], device='cuda:0', grad_fn=<RoundBackward>)\nLabels predicted (proba.):  tensor([[0.8682, 0.1284, 0.3575]], device='cuda:0', grad_fn=<SigmoidBackward>)\n\n\nMRI # 109\n--------------------------------------------------------------------------------\nTrue labels:  tensor([[1., 0., 1.]])\nLabels predicted:  tensor([[1., 0., 1.]], device='cuda:0', grad_fn=<RoundBackward>)\nLabels predicted (proba.):  tensor([[0.9509, 0.0812, 0.5933]], device='cuda:0', grad_fn=<SigmoidBackward>)\n\n\nMRI # 110\n--------------------------------------------------------------------------------\nTrue labels:  tensor([[1., 0., 1.]])\nLabels predicted:  tensor([[1., 0., 0.]], device='cuda:0', grad_fn=<RoundBackward>)\nLabels predicted (proba.):  tensor([[0.7676, 0.1596, 0.2398]], device='cuda:0', grad_fn=<SigmoidBackward>)\n\n\nMRI # 111\n--------------------------------------------------------------------------------\nTrue labels:  tensor([[1., 0., 1.]])\nLabels predicted:  tensor([[1., 0., 0.]], device='cuda:0', grad_fn=<RoundBackward>)\nLabels predicted (proba.):  tensor([[0.6010, 0.0923, 0.2552]], device='cuda:0', grad_fn=<SigmoidBackward>)\n\n\nMRI # 112\n--------------------------------------------------------------------------------\nTrue labels:  tensor([[1., 0., 1.]])\nLabels predicted:  tensor([[1., 1., 1.]], device='cuda:0', grad_fn=<RoundBackward>)\nLabels predicted (proba.):  tensor([[0.9079, 0.5338, 0.5912]], device='cuda:0', grad_fn=<SigmoidBackward>)\n\n\nMRI # 113\n--------------------------------------------------------------------------------\nTrue labels:  tensor([[1., 0., 1.]])\nLabels predicted:  tensor([[1., 0., 1.]], device='cuda:0', grad_fn=<RoundBackward>)\nLabels predicted (proba.):  tensor([[0.9892, 0.3157, 0.9019]], device='cuda:0', grad_fn=<SigmoidBackward>)\n\n\nMRI # 114\n--------------------------------------------------------------------------------\nTrue labels:  tensor([[1., 0., 1.]])\nLabels predicted:  tensor([[1., 0., 0.]], device='cuda:0', grad_fn=<RoundBackward>)\nLabels predicted (proba.):  tensor([[0.8722, 0.1322, 0.3698]], device='cuda:0', grad_fn=<SigmoidBackward>)\n\n\nMRI # 115\n--------------------------------------------------------------------------------\nTrue labels:  tensor([[1., 1., 1.]])\nLabels predicted:  tensor([[1., 0., 0.]], device='cuda:0', grad_fn=<RoundBackward>)\nLabels predicted (proba.):  tensor([[0.8273, 0.4409, 0.4115]], device='cuda:0', grad_fn=<SigmoidBackward>)\n\n\nMRI # 116\n--------------------------------------------------------------------------------\nTrue labels:  tensor([[1., 1., 1.]])\nLabels predicted:  tensor([[1., 0., 0.]], device='cuda:0', grad_fn=<RoundBackward>)\nLabels predicted (proba.):  tensor([[0.9084, 0.4168, 0.4755]], device='cuda:0', grad_fn=<SigmoidBackward>)\n\n\nMRI # 117\n--------------------------------------------------------------------------------\nTrue labels:  tensor([[1., 0., 1.]])\nLabels predicted:  tensor([[1., 0., 0.]], device='cuda:0', grad_fn=<RoundBackward>)\nLabels predicted (proba.):  tensor([[0.7422, 0.0918, 0.2199]], device='cuda:0', grad_fn=<SigmoidBackward>)\n\n\nMRI # 118\n--------------------------------------------------------------------------------\nTrue labels:  tensor([[1., 1., 1.]])\nLabels predicted:  tensor([[1., 0., 0.]], device='cuda:0', grad_fn=<RoundBackward>)\nLabels predicted (proba.):  tensor([[0.8312, 0.4432, 0.3446]], device='cuda:0', grad_fn=<SigmoidBackward>)\n\n\nMRI # 119\n--------------------------------------------------------------------------------\nTrue labels:  tensor([[1., 0., 1.]])\nLabels predicted:  tensor([[0., 0., 0.]], device='cuda:0', grad_fn=<RoundBackward>)\nLabels predicted (proba.):  tensor([[0.1363, 0.1859, 0.0623]], device='cuda:0', grad_fn=<SigmoidBackward>)\n\n\n"
        }
      ]
    },
    {
      "execution_count": null,
      "cell_type": "code",
      "metadata": {
        "scrolled": true,
        "outputId": "2ecd5445-1d69-4448-ac9e-6b7698b19045",
        "id": "OPq8qxfrNHzJ"
      },
      "source": [
        "model.eval()\n",
        "\n",
        "for i, (img, labels_chosen) in enumerate(val_loader):\n",
        "    img = [data.cuda() for data in img]\n",
        "    print(\"MRI #\",i)\n",
        "    print(\"-\"*80)\n",
        "    print(\"True labels: \", labels_chosen)\n",
        "    pred = model(img)\n",
        "    print(\"Labels predicted: \", torch.round(torch.sigmoid(pred)))\n",
        "    print(\"Labels predicted (proba.): \", torch.sigmoid(pred))\n",
        "    print(\"\\n\")"
      ],
      "outputs": [
        {
          "output_type": "stream",
          "name": "stdout",
          "text": "MRI # 0\n--------------------------------------------------------------------------------\nTrue labels:  tensor([[0., 0., 0.]])\nLabels predicted:  tensor([[0., 0., 0.]], device='cuda:0', grad_fn=<RoundBackward>)\nLabels predicted (proba.):  tensor([[0.0767, 0.0503, 0.0299]], device='cuda:0', grad_fn=<SigmoidBackward>)\n\n\nMRI # 1\n--------------------------------------------------------------------------------\nTrue labels:  tensor([[0., 0., 0.]])\nLabels predicted:  tensor([[0., 0., 0.]], device='cuda:0', grad_fn=<RoundBackward>)\nLabels predicted (proba.):  tensor([[0.0674, 0.0912, 0.0588]], device='cuda:0', grad_fn=<SigmoidBackward>)\n\n\nMRI # 2\n--------------------------------------------------------------------------------\nTrue labels:  tensor([[0., 0., 0.]])\nLabels predicted:  tensor([[0., 0., 0.]], device='cuda:0', grad_fn=<RoundBackward>)\nLabels predicted (proba.):  tensor([[0.1558, 0.0449, 0.1025]], device='cuda:0', grad_fn=<SigmoidBackward>)\n\n\nMRI # 3\n--------------------------------------------------------------------------------\nTrue labels:  tensor([[0., 0., 0.]])\nLabels predicted:  tensor([[0., 0., 0.]], device='cuda:0', grad_fn=<RoundBackward>)\nLabels predicted (proba.):  tensor([[0.0355, 0.0687, 0.0466]], device='cuda:0', grad_fn=<SigmoidBackward>)\n\n\nMRI # 4\n--------------------------------------------------------------------------------\nTrue labels:  tensor([[0., 0., 0.]])\nLabels predicted:  tensor([[0., 0., 0.]], device='cuda:0', grad_fn=<RoundBackward>)\nLabels predicted (proba.):  tensor([[0.4141, 0.1198, 0.1866]], device='cuda:0', grad_fn=<SigmoidBackward>)\n\n\nMRI # 5\n--------------------------------------------------------------------------------\nTrue labels:  tensor([[0., 0., 0.]])\nLabels predicted:  tensor([[1., 0., 0.]], device='cuda:0', grad_fn=<RoundBackward>)\nLabels predicted (proba.):  tensor([[0.5738, 0.2620, 0.4432]], device='cuda:0', grad_fn=<SigmoidBackward>)\n\n\nMRI # 6\n--------------------------------------------------------------------------------\nTrue labels:  tensor([[0., 0., 0.]])\nLabels predicted:  tensor([[0., 0., 0.]], device='cuda:0', grad_fn=<RoundBackward>)\nLabels predicted (proba.):  tensor([[0.3651, 0.0361, 0.0214]], device='cuda:0', grad_fn=<SigmoidBackward>)\n\n\nMRI # 7\n--------------------------------------------------------------------------------\nTrue labels:  tensor([[0., 0., 0.]])\nLabels predicted:  tensor([[1., 1., 1.]], device='cuda:0', grad_fn=<RoundBackward>)\nLabels predicted (proba.):  tensor([[0.8895, 0.6305, 0.6219]], device='cuda:0', grad_fn=<SigmoidBackward>)\n\n\nMRI # 8\n--------------------------------------------------------------------------------\nTrue labels:  tensor([[0., 0., 0.]])\nLabels predicted:  tensor([[0., 0., 0.]], device='cuda:0', grad_fn=<RoundBackward>)\nLabels predicted (proba.):  tensor([[0.2221, 0.4333, 0.1632]], device='cuda:0', grad_fn=<SigmoidBackward>)\n\n\nMRI # 9\n--------------------------------------------------------------------------------\nTrue labels:  tensor([[0., 0., 0.]])\nLabels predicted:  tensor([[0., 0., 0.]], device='cuda:0', grad_fn=<RoundBackward>)\nLabels predicted (proba.):  tensor([[0.1812, 0.0977, 0.1175]], device='cuda:0', grad_fn=<SigmoidBackward>)\n\n\nMRI # 10\n--------------------------------------------------------------------------------\nTrue labels:  tensor([[0., 0., 0.]])\nLabels predicted:  tensor([[1., 0., 0.]], device='cuda:0', grad_fn=<RoundBackward>)\nLabels predicted (proba.):  tensor([[0.5298, 0.2389, 0.2368]], device='cuda:0', grad_fn=<SigmoidBackward>)\n\n\nMRI # 11\n--------------------------------------------------------------------------------\nTrue labels:  tensor([[0., 0., 0.]])\nLabels predicted:  tensor([[1., 0., 0.]], device='cuda:0', grad_fn=<RoundBackward>)\nLabels predicted (proba.):  tensor([[0.7179, 0.1226, 0.3925]], device='cuda:0', grad_fn=<SigmoidBackward>)\n\n\nMRI # 12\n--------------------------------------------------------------------------------\nTrue labels:  tensor([[0., 0., 0.]])\nLabels predicted:  tensor([[0., 0., 0.]], device='cuda:0', grad_fn=<RoundBackward>)\nLabels predicted (proba.):  tensor([[0.4103, 0.1227, 0.1660]], device='cuda:0', grad_fn=<SigmoidBackward>)\n\n\nMRI # 13\n--------------------------------------------------------------------------------\nTrue labels:  tensor([[0., 0., 0.]])\nLabels predicted:  tensor([[0., 0., 0.]], device='cuda:0', grad_fn=<RoundBackward>)\nLabels predicted (proba.):  tensor([[0.3469, 0.1113, 0.1976]], device='cuda:0', grad_fn=<SigmoidBackward>)\n\n\nMRI # 14\n--------------------------------------------------------------------------------\nTrue labels:  tensor([[0., 0., 0.]])\nLabels predicted:  tensor([[1., 0., 0.]], device='cuda:0', grad_fn=<RoundBackward>)\nLabels predicted (proba.):  tensor([[0.6747, 0.1283, 0.2484]], device='cuda:0', grad_fn=<SigmoidBackward>)\n\n\nMRI # 15\n--------------------------------------------------------------------------------\nTrue labels:  tensor([[0., 0., 0.]])\nLabels predicted:  tensor([[1., 0., 0.]], device='cuda:0', grad_fn=<RoundBackward>)\nLabels predicted (proba.):  tensor([[0.5660, 0.1070, 0.2353]], device='cuda:0', grad_fn=<SigmoidBackward>)\n\n\nMRI # 16\n--------------------------------------------------------------------------------\nTrue labels:  tensor([[0., 0., 0.]])\nLabels predicted:  tensor([[0., 0., 0.]], device='cuda:0', grad_fn=<RoundBackward>)\nLabels predicted (proba.):  tensor([[0.0418, 0.0618, 0.0435]], device='cuda:0', grad_fn=<SigmoidBackward>)\n\n\nMRI # 17\n--------------------------------------------------------------------------------\nTrue labels:  tensor([[0., 0., 0.]])\nLabels predicted:  tensor([[0., 0., 0.]], device='cuda:0', grad_fn=<RoundBackward>)\nLabels predicted (proba.):  tensor([[0.0963, 0.1731, 0.0412]], device='cuda:0', grad_fn=<SigmoidBackward>)\n\n\nMRI # 18\n--------------------------------------------------------------------------------\nTrue labels:  tensor([[0., 0., 0.]])\nLabels predicted:  tensor([[0., 0., 0.]], device='cuda:0', grad_fn=<RoundBackward>)\nLabels predicted (proba.):  tensor([[0.4970, 0.0725, 0.1656]], device='cuda:0', grad_fn=<SigmoidBackward>)\n\n\nMRI # 19\n--------------------------------------------------------------------------------\nTrue labels:  tensor([[0., 0., 0.]])\nLabels predicted:  tensor([[0., 0., 0.]], device='cuda:0', grad_fn=<RoundBackward>)\nLabels predicted (proba.):  tensor([[0.1570, 0.1558, 0.1294]], device='cuda:0', grad_fn=<SigmoidBackward>)\n\n\nMRI # 20\n--------------------------------------------------------------------------------\nTrue labels:  tensor([[0., 0., 0.]])\nLabels predicted:  tensor([[0., 0., 0.]], device='cuda:0', grad_fn=<RoundBackward>)\nLabels predicted (proba.):  tensor([[0.4005, 0.2656, 0.2300]], device='cuda:0', grad_fn=<SigmoidBackward>)\n\n\nMRI # 21\n--------------------------------------------------------------------------------\nTrue labels:  tensor([[0., 0., 0.]])\nLabels predicted:  tensor([[1., 0., 0.]], device='cuda:0', grad_fn=<RoundBackward>)\nLabels predicted (proba.):  tensor([[0.7592, 0.0698, 0.1996]], device='cuda:0', grad_fn=<SigmoidBackward>)\n\n\nMRI # 22\n--------------------------------------------------------------------------------\nTrue labels:  tensor([[0., 0., 0.]])\nLabels predicted:  tensor([[0., 0., 0.]], device='cuda:0', grad_fn=<RoundBackward>)\nLabels predicted (proba.):  tensor([[0.3353, 0.1134, 0.0970]], device='cuda:0', grad_fn=<SigmoidBackward>)\n\n\nMRI # 23\n--------------------------------------------------------------------------------\nTrue labels:  tensor([[0., 0., 0.]])\nLabels predicted:  tensor([[0., 0., 0.]], device='cuda:0', grad_fn=<RoundBackward>)\nLabels predicted (proba.):  tensor([[0.0262, 0.0573, 0.0232]], device='cuda:0', grad_fn=<SigmoidBackward>)\n\n\nMRI # 24\n--------------------------------------------------------------------------------\nTrue labels:  tensor([[1., 0., 0.]])\nLabels predicted:  tensor([[0., 0., 0.]], device='cuda:0', grad_fn=<RoundBackward>)\nLabels predicted (proba.):  tensor([[0.3294, 0.0600, 0.2719]], device='cuda:0', grad_fn=<SigmoidBackward>)\n\n\nMRI # 25\n--------------------------------------------------------------------------------\nTrue labels:  tensor([[1., 0., 0.]])\nLabels predicted:  tensor([[1., 0., 0.]], device='cuda:0', grad_fn=<RoundBackward>)\nLabels predicted (proba.):  tensor([[0.8850, 0.1265, 0.3318]], device='cuda:0', grad_fn=<SigmoidBackward>)\n\n\n"
        },
        {
          "output_type": "stream",
          "name": "stdout",
          "text": "MRI # 26\n--------------------------------------------------------------------------------\nTrue labels:  tensor([[1., 0., 0.]])\nLabels predicted:  tensor([[1., 0., 0.]], device='cuda:0', grad_fn=<RoundBackward>)\nLabels predicted (proba.):  tensor([[0.7542, 0.2289, 0.4040]], device='cuda:0', grad_fn=<SigmoidBackward>)\n\n\nMRI # 27\n--------------------------------------------------------------------------------\nTrue labels:  tensor([[1., 0., 0.]])\nLabels predicted:  tensor([[0., 0., 0.]], device='cuda:0', grad_fn=<RoundBackward>)\nLabels predicted (proba.):  tensor([[0.2547, 0.1112, 0.1120]], device='cuda:0', grad_fn=<SigmoidBackward>)\n\n\nMRI # 28\n--------------------------------------------------------------------------------\nTrue labels:  tensor([[1., 0., 0.]])\nLabels predicted:  tensor([[1., 0., 0.]], device='cuda:0', grad_fn=<RoundBackward>)\nLabels predicted (proba.):  tensor([[0.8005, 0.1108, 0.2779]], device='cuda:0', grad_fn=<SigmoidBackward>)\n\n\nMRI # 29\n--------------------------------------------------------------------------------\nTrue labels:  tensor([[1., 0., 0.]])\nLabels predicted:  tensor([[1., 0., 0.]], device='cuda:0', grad_fn=<RoundBackward>)\nLabels predicted (proba.):  tensor([[0.5505, 0.1904, 0.2231]], device='cuda:0', grad_fn=<SigmoidBackward>)\n\n\nMRI # 30\n--------------------------------------------------------------------------------\nTrue labels:  tensor([[1., 0., 0.]])\nLabels predicted:  tensor([[1., 0., 1.]], device='cuda:0', grad_fn=<RoundBackward>)\nLabels predicted (proba.):  tensor([[0.8694, 0.2547, 0.5366]], device='cuda:0', grad_fn=<SigmoidBackward>)\n\n\nMRI # 31\n--------------------------------------------------------------------------------\nTrue labels:  tensor([[1., 0., 0.]])\nLabels predicted:  tensor([[0., 0., 0.]], device='cuda:0', grad_fn=<RoundBackward>)\nLabels predicted (proba.):  tensor([[0.4732, 0.2647, 0.2123]], device='cuda:0', grad_fn=<SigmoidBackward>)\n\n\nMRI # 32\n--------------------------------------------------------------------------------\nTrue labels:  tensor([[1., 0., 0.]])\nLabels predicted:  tensor([[1., 1., 1.]], device='cuda:0', grad_fn=<RoundBackward>)\nLabels predicted (proba.):  tensor([[0.9599, 0.8457, 0.6324]], device='cuda:0', grad_fn=<SigmoidBackward>)\n\n\nMRI # 33\n--------------------------------------------------------------------------------\nTrue labels:  tensor([[1., 0., 0.]])\nLabels predicted:  tensor([[1., 0., 0.]], device='cuda:0', grad_fn=<RoundBackward>)\nLabels predicted (proba.):  tensor([[0.9148, 0.3396, 0.3672]], device='cuda:0', grad_fn=<SigmoidBackward>)\n\n\nMRI # 34\n--------------------------------------------------------------------------------\nTrue labels:  tensor([[1., 0., 0.]])\nLabels predicted:  tensor([[0., 0., 0.]], device='cuda:0', grad_fn=<RoundBackward>)\nLabels predicted (proba.):  tensor([[0.0863, 0.0982, 0.0256]], device='cuda:0', grad_fn=<SigmoidBackward>)\n\n\nMRI # 35\n--------------------------------------------------------------------------------\nTrue labels:  tensor([[1., 0., 0.]])\nLabels predicted:  tensor([[0., 0., 0.]], device='cuda:0', grad_fn=<RoundBackward>)\nLabels predicted (proba.):  tensor([[0.3645, 0.1159, 0.1246]], device='cuda:0', grad_fn=<SigmoidBackward>)\n\n\nMRI # 36\n--------------------------------------------------------------------------------\nTrue labels:  tensor([[1., 0., 0.]])\nLabels predicted:  tensor([[1., 0., 0.]], device='cuda:0', grad_fn=<RoundBackward>)\nLabels predicted (proba.):  tensor([[0.7449, 0.0977, 0.3384]], device='cuda:0', grad_fn=<SigmoidBackward>)\n\n\nMRI # 37\n--------------------------------------------------------------------------------\nTrue labels:  tensor([[1., 0., 0.]])\nLabels predicted:  tensor([[1., 0., 0.]], device='cuda:0', grad_fn=<RoundBackward>)\nLabels predicted (proba.):  tensor([[0.6941, 0.1441, 0.3563]], device='cuda:0', grad_fn=<SigmoidBackward>)\n\n\nMRI # 38\n--------------------------------------------------------------------------------\nTrue labels:  tensor([[1., 0., 0.]])\nLabels predicted:  tensor([[1., 0., 0.]], device='cuda:0', grad_fn=<RoundBackward>)\nLabels predicted (proba.):  tensor([[0.5351, 0.1610, 0.2811]], device='cuda:0', grad_fn=<SigmoidBackward>)\n\n\nMRI # 39\n--------------------------------------------------------------------------------\nTrue labels:  tensor([[1., 0., 0.]])\nLabels predicted:  tensor([[1., 0., 1.]], device='cuda:0', grad_fn=<RoundBackward>)\nLabels predicted (proba.):  tensor([[0.8715, 0.3413, 0.5769]], device='cuda:0', grad_fn=<SigmoidBackward>)\n\n\nMRI # 40\n--------------------------------------------------------------------------------\nTrue labels:  tensor([[1., 0., 0.]])\nLabels predicted:  tensor([[1., 0., 0.]], device='cuda:0', grad_fn=<RoundBackward>)\nLabels predicted (proba.):  tensor([[0.7518, 0.3209, 0.3855]], device='cuda:0', grad_fn=<SigmoidBackward>)\n\n\nMRI # 41\n--------------------------------------------------------------------------------\nTrue labels:  tensor([[1., 0., 0.]])\nLabels predicted:  tensor([[1., 1., 1.]], device='cuda:0', grad_fn=<RoundBackward>)\nLabels predicted (proba.):  tensor([[0.9605, 0.5251, 0.5594]], device='cuda:0', grad_fn=<SigmoidBackward>)\n\n\nMRI # 42\n--------------------------------------------------------------------------------\nTrue labels:  tensor([[1., 1., 1.]])\nLabels predicted:  tensor([[1., 0., 0.]], device='cuda:0', grad_fn=<RoundBackward>)\nLabels predicted (proba.):  tensor([[0.6248, 0.4110, 0.3169]], device='cuda:0', grad_fn=<SigmoidBackward>)\n\n\nMRI # 43\n--------------------------------------------------------------------------------\nTrue labels:  tensor([[1., 1., 1.]])\nLabels predicted:  tensor([[1., 1., 0.]], device='cuda:0', grad_fn=<RoundBackward>)\nLabels predicted (proba.):  tensor([[0.9369, 0.5997, 0.4314]], device='cuda:0', grad_fn=<SigmoidBackward>)\n\n\nMRI # 44\n--------------------------------------------------------------------------------\nTrue labels:  tensor([[1., 1., 1.]])\nLabels predicted:  tensor([[1., 1., 1.]], device='cuda:0', grad_fn=<RoundBackward>)\nLabels predicted (proba.):  tensor([[0.9478, 0.7856, 0.6180]], device='cuda:0', grad_fn=<SigmoidBackward>)\n\n\nMRI # 45\n--------------------------------------------------------------------------------\nTrue labels:  tensor([[1., 1., 0.]])\nLabels predicted:  tensor([[1., 1., 0.]], device='cuda:0', grad_fn=<RoundBackward>)\nLabels predicted (proba.):  tensor([[0.7560, 0.7087, 0.3825]], device='cuda:0', grad_fn=<SigmoidBackward>)\n\n\nMRI # 46\n--------------------------------------------------------------------------------\nTrue labels:  tensor([[1., 1., 1.]])\nLabels predicted:  tensor([[1., 1., 1.]], device='cuda:0', grad_fn=<RoundBackward>)\nLabels predicted (proba.):  tensor([[0.9509, 0.8731, 0.6460]], device='cuda:0', grad_fn=<SigmoidBackward>)\n\n\nMRI # 47\n--------------------------------------------------------------------------------\nTrue labels:  tensor([[1., 1., 0.]])\nLabels predicted:  tensor([[1., 1., 0.]], device='cuda:0', grad_fn=<RoundBackward>)\nLabels predicted (proba.):  tensor([[0.7546, 0.7886, 0.3080]], device='cuda:0', grad_fn=<SigmoidBackward>)\n\n\nMRI # 48\n--------------------------------------------------------------------------------\nTrue labels:  tensor([[1., 1., 0.]])\nLabels predicted:  tensor([[1., 0., 0.]], device='cuda:0', grad_fn=<RoundBackward>)\nLabels predicted (proba.):  tensor([[0.8738, 0.2420, 0.4751]], device='cuda:0', grad_fn=<SigmoidBackward>)\n\n\nMRI # 49\n--------------------------------------------------------------------------------\nTrue labels:  tensor([[1., 1., 0.]])\nLabels predicted:  tensor([[1., 1., 0.]], device='cuda:0', grad_fn=<RoundBackward>)\nLabels predicted (proba.):  tensor([[0.7929, 0.8659, 0.3305]], device='cuda:0', grad_fn=<SigmoidBackward>)\n\n\nMRI # 50\n--------------------------------------------------------------------------------\nTrue labels:  tensor([[1., 0., 0.]])\nLabels predicted:  tensor([[1., 0., 1.]], device='cuda:0', grad_fn=<RoundBackward>)\nLabels predicted (proba.):  tensor([[0.8984, 0.1221, 0.5933]], device='cuda:0', grad_fn=<SigmoidBackward>)\n\n\nMRI # 51\n--------------------------------------------------------------------------------\nTrue labels:  tensor([[1., 1., 0.]])\nLabels predicted:  tensor([[1., 0., 1.]], device='cuda:0', grad_fn=<RoundBackward>)\nLabels predicted (proba.):  tensor([[0.8708, 0.4326, 0.6240]], device='cuda:0', grad_fn=<SigmoidBackward>)\n\n\n"
        },
        {
          "output_type": "stream",
          "name": "stdout",
          "text": "MRI # 52\n--------------------------------------------------------------------------------\nTrue labels:  tensor([[1., 1., 0.]])\nLabels predicted:  tensor([[1., 1., 0.]], device='cuda:0', grad_fn=<RoundBackward>)\nLabels predicted (proba.):  tensor([[0.8081, 0.9364, 0.3634]], device='cuda:0', grad_fn=<SigmoidBackward>)\n\n\nMRI # 53\n--------------------------------------------------------------------------------\nTrue labels:  tensor([[1., 1., 0.]])\nLabels predicted:  tensor([[1., 0., 1.]], device='cuda:0', grad_fn=<RoundBackward>)\nLabels predicted (proba.):  tensor([[0.8870, 0.1413, 0.5451]], device='cuda:0', grad_fn=<SigmoidBackward>)\n\n\nMRI # 54\n--------------------------------------------------------------------------------\nTrue labels:  tensor([[1., 1., 1.]])\nLabels predicted:  tensor([[1., 1., 1.]], device='cuda:0', grad_fn=<RoundBackward>)\nLabels predicted (proba.):  tensor([[0.9542, 0.8870, 0.7905]], device='cuda:0', grad_fn=<SigmoidBackward>)\n\n\nMRI # 55\n--------------------------------------------------------------------------------\nTrue labels:  tensor([[1., 1., 0.]])\nLabels predicted:  tensor([[1., 1., 0.]], device='cuda:0', grad_fn=<RoundBackward>)\nLabels predicted (proba.):  tensor([[0.8337, 0.8682, 0.4182]], device='cuda:0', grad_fn=<SigmoidBackward>)\n\n\nMRI # 56\n--------------------------------------------------------------------------------\nTrue labels:  tensor([[1., 1., 1.]])\nLabels predicted:  tensor([[1., 1., 1.]], device='cuda:0', grad_fn=<RoundBackward>)\nLabels predicted (proba.):  tensor([[0.9225, 0.7866, 0.5575]], device='cuda:0', grad_fn=<SigmoidBackward>)\n\n\nMRI # 57\n--------------------------------------------------------------------------------\nTrue labels:  tensor([[1., 1., 0.]])\nLabels predicted:  tensor([[1., 0., 1.]], device='cuda:0', grad_fn=<RoundBackward>)\nLabels predicted (proba.):  tensor([[0.9816, 0.0877, 0.7557]], device='cuda:0', grad_fn=<SigmoidBackward>)\n\n\nMRI # 58\n--------------------------------------------------------------------------------\nTrue labels:  tensor([[1., 1., 1.]])\nLabels predicted:  tensor([[1., 1., 1.]], device='cuda:0', grad_fn=<RoundBackward>)\nLabels predicted (proba.):  tensor([[0.9797, 0.9438, 0.8219]], device='cuda:0', grad_fn=<SigmoidBackward>)\n\n\nMRI # 59\n--------------------------------------------------------------------------------\nTrue labels:  tensor([[1., 0., 0.]])\nLabels predicted:  tensor([[1., 1., 1.]], device='cuda:0', grad_fn=<RoundBackward>)\nLabels predicted (proba.):  tensor([[0.8587, 0.5892, 0.5778]], device='cuda:0', grad_fn=<SigmoidBackward>)\n\n\nMRI # 60\n--------------------------------------------------------------------------------\nTrue labels:  tensor([[1., 1., 0.]])\nLabels predicted:  tensor([[1., 1., 0.]], device='cuda:0', grad_fn=<RoundBackward>)\nLabels predicted (proba.):  tensor([[0.7857, 0.8950, 0.4263]], device='cuda:0', grad_fn=<SigmoidBackward>)\n\n\nMRI # 61\n--------------------------------------------------------------------------------\nTrue labels:  tensor([[1., 1., 1.]])\nLabels predicted:  tensor([[1., 1., 1.]], device='cuda:0', grad_fn=<RoundBackward>)\nLabels predicted (proba.):  tensor([[0.9772, 0.8742, 0.7947]], device='cuda:0', grad_fn=<SigmoidBackward>)\n\n\nMRI # 62\n--------------------------------------------------------------------------------\nTrue labels:  tensor([[1., 1., 1.]])\nLabels predicted:  tensor([[1., 0., 1.]], device='cuda:0', grad_fn=<RoundBackward>)\nLabels predicted (proba.):  tensor([[0.9347, 0.4059, 0.7532]], device='cuda:0', grad_fn=<SigmoidBackward>)\n\n\nMRI # 63\n--------------------------------------------------------------------------------\nTrue labels:  tensor([[1., 1., 0.]])\nLabels predicted:  tensor([[1., 1., 1.]], device='cuda:0', grad_fn=<RoundBackward>)\nLabels predicted (proba.):  tensor([[0.8475, 0.8140, 0.7704]], device='cuda:0', grad_fn=<SigmoidBackward>)\n\n\nMRI # 64\n--------------------------------------------------------------------------------\nTrue labels:  tensor([[1., 1., 1.]])\nLabels predicted:  tensor([[1., 0., 1.]], device='cuda:0', grad_fn=<RoundBackward>)\nLabels predicted (proba.):  tensor([[0.9812, 0.3509, 0.7820]], device='cuda:0', grad_fn=<SigmoidBackward>)\n\n\nMRI # 65\n--------------------------------------------------------------------------------\nTrue labels:  tensor([[1., 1., 1.]])\nLabels predicted:  tensor([[1., 0., 0.]], device='cuda:0', grad_fn=<RoundBackward>)\nLabels predicted (proba.):  tensor([[0.8615, 0.4863, 0.3106]], device='cuda:0', grad_fn=<SigmoidBackward>)\n\n\nMRI # 66\n--------------------------------------------------------------------------------\nTrue labels:  tensor([[1., 1., 1.]])\nLabels predicted:  tensor([[1., 1., 1.]], device='cuda:0', grad_fn=<RoundBackward>)\nLabels predicted (proba.):  tensor([[0.9935, 0.5376, 0.8405]], device='cuda:0', grad_fn=<SigmoidBackward>)\n\n\nMRI # 67\n--------------------------------------------------------------------------------\nTrue labels:  tensor([[1., 1., 1.]])\nLabels predicted:  tensor([[0., 0., 0.]], device='cuda:0', grad_fn=<RoundBackward>)\nLabels predicted (proba.):  tensor([[0.2880, 0.4862, 0.2465]], device='cuda:0', grad_fn=<SigmoidBackward>)\n\n\nMRI # 68\n--------------------------------------------------------------------------------\nTrue labels:  tensor([[1., 1., 0.]])\nLabels predicted:  tensor([[1., 1., 1.]], device='cuda:0', grad_fn=<RoundBackward>)\nLabels predicted (proba.):  tensor([[0.9662, 0.9320, 0.8015]], device='cuda:0', grad_fn=<SigmoidBackward>)\n\n\nMRI # 69\n--------------------------------------------------------------------------------\nTrue labels:  tensor([[1., 1., 1.]])\nLabels predicted:  tensor([[1., 1., 1.]], device='cuda:0', grad_fn=<RoundBackward>)\nLabels predicted (proba.):  tensor([[0.9003, 0.9111, 0.5416]], device='cuda:0', grad_fn=<SigmoidBackward>)\n\n\nMRI # 70\n--------------------------------------------------------------------------------\nTrue labels:  tensor([[1., 1., 0.]])\nLabels predicted:  tensor([[0., 1., 0.]], device='cuda:0', grad_fn=<RoundBackward>)\nLabels predicted (proba.):  tensor([[0.2493, 0.5826, 0.1583]], device='cuda:0', grad_fn=<SigmoidBackward>)\n\n\nMRI # 71\n--------------------------------------------------------------------------------\nTrue labels:  tensor([[1., 1., 1.]])\nLabels predicted:  tensor([[1., 1., 1.]], device='cuda:0', grad_fn=<RoundBackward>)\nLabels predicted (proba.):  tensor([[0.8101, 0.8387, 0.6717]], device='cuda:0', grad_fn=<SigmoidBackward>)\n\n\nMRI # 72\n--------------------------------------------------------------------------------\nTrue labels:  tensor([[1., 1., 1.]])\nLabels predicted:  tensor([[1., 1., 1.]], device='cuda:0', grad_fn=<RoundBackward>)\nLabels predicted (proba.):  tensor([[0.9385, 0.9142, 0.5053]], device='cuda:0', grad_fn=<SigmoidBackward>)\n\n\nMRI # 73\n--------------------------------------------------------------------------------\nTrue labels:  tensor([[1., 1., 1.]])\nLabels predicted:  tensor([[1., 1., 1.]], device='cuda:0', grad_fn=<RoundBackward>)\nLabels predicted (proba.):  tensor([[0.9867, 0.9075, 0.8044]], device='cuda:0', grad_fn=<SigmoidBackward>)\n\n\nMRI # 74\n--------------------------------------------------------------------------------\nTrue labels:  tensor([[1., 1., 0.]])\nLabels predicted:  tensor([[1., 1., 1.]], device='cuda:0', grad_fn=<RoundBackward>)\nLabels predicted (proba.):  tensor([[0.9823, 0.8685, 0.8223]], device='cuda:0', grad_fn=<SigmoidBackward>)\n\n\nMRI # 75\n--------------------------------------------------------------------------------\nTrue labels:  tensor([[1., 1., 1.]])\nLabels predicted:  tensor([[1., 1., 1.]], device='cuda:0', grad_fn=<RoundBackward>)\nLabels predicted (proba.):  tensor([[0.9765, 0.5955, 0.6968]], device='cuda:0', grad_fn=<SigmoidBackward>)\n\n\nMRI # 76\n--------------------------------------------------------------------------------\nTrue labels:  tensor([[1., 1., 0.]])\nLabels predicted:  tensor([[1., 1., 1.]], device='cuda:0', grad_fn=<RoundBackward>)\nLabels predicted (proba.):  tensor([[0.9575, 0.7406, 0.5512]], device='cuda:0', grad_fn=<SigmoidBackward>)\n\n\nMRI # 77\n--------------------------------------------------------------------------------\nTrue labels:  tensor([[1., 1., 1.]])\nLabels predicted:  tensor([[1., 1., 1.]], device='cuda:0', grad_fn=<RoundBackward>)\nLabels predicted (proba.):  tensor([[0.8996, 0.9429, 0.5567]], device='cuda:0', grad_fn=<SigmoidBackward>)\n\n\nMRI # 78\n--------------------------------------------------------------------------------\nTrue labels:  tensor([[1., 1., 0.]])\n"
        },
        {
          "output_type": "stream",
          "name": "stdout",
          "text": "Labels predicted:  tensor([[1., 1., 0.]], device='cuda:0', grad_fn=<RoundBackward>)\nLabels predicted (proba.):  tensor([[0.7193, 0.6634, 0.4735]], device='cuda:0', grad_fn=<SigmoidBackward>)\n\n\nMRI # 79\n--------------------------------------------------------------------------------\nTrue labels:  tensor([[1., 1., 0.]])\nLabels predicted:  tensor([[1., 1., 1.]], device='cuda:0', grad_fn=<RoundBackward>)\nLabels predicted (proba.):  tensor([[0.9198, 0.9200, 0.5984]], device='cuda:0', grad_fn=<SigmoidBackward>)\n\n\nMRI # 80\n--------------------------------------------------------------------------------\nTrue labels:  tensor([[1., 1., 0.]])\nLabels predicted:  tensor([[1., 1., 1.]], device='cuda:0', grad_fn=<RoundBackward>)\nLabels predicted (proba.):  tensor([[0.9517, 0.8896, 0.6525]], device='cuda:0', grad_fn=<SigmoidBackward>)\n\n\nMRI # 81\n--------------------------------------------------------------------------------\nTrue labels:  tensor([[1., 1., 1.]])\nLabels predicted:  tensor([[1., 1., 1.]], device='cuda:0', grad_fn=<RoundBackward>)\nLabels predicted (proba.):  tensor([[0.9927, 0.6354, 0.8916]], device='cuda:0', grad_fn=<SigmoidBackward>)\n\n\nMRI # 82\n--------------------------------------------------------------------------------\nTrue labels:  tensor([[1., 1., 0.]])\nLabels predicted:  tensor([[1., 1., 1.]], device='cuda:0', grad_fn=<RoundBackward>)\nLabels predicted (proba.):  tensor([[0.6523, 0.5702, 0.5235]], device='cuda:0', grad_fn=<SigmoidBackward>)\n\n\nMRI # 83\n--------------------------------------------------------------------------------\nTrue labels:  tensor([[1., 1., 1.]])\nLabels predicted:  tensor([[1., 1., 1.]], device='cuda:0', grad_fn=<RoundBackward>)\nLabels predicted (proba.):  tensor([[0.9765, 0.8399, 0.6385]], device='cuda:0', grad_fn=<SigmoidBackward>)\n\n\nMRI # 84\n--------------------------------------------------------------------------------\nTrue labels:  tensor([[1., 1., 0.]])\nLabels predicted:  tensor([[1., 1., 1.]], device='cuda:0', grad_fn=<RoundBackward>)\nLabels predicted (proba.):  tensor([[0.9560, 0.7011, 0.7090]], device='cuda:0', grad_fn=<SigmoidBackward>)\n\n\nMRI # 85\n--------------------------------------------------------------------------------\nTrue labels:  tensor([[1., 1., 0.]])\nLabels predicted:  tensor([[1., 1., 0.]], device='cuda:0', grad_fn=<RoundBackward>)\nLabels predicted (proba.):  tensor([[0.6646, 0.7758, 0.4102]], device='cuda:0', grad_fn=<SigmoidBackward>)\n\n\nMRI # 86\n--------------------------------------------------------------------------------\nTrue labels:  tensor([[1., 1., 1.]])\nLabels predicted:  tensor([[1., 0., 1.]], device='cuda:0', grad_fn=<RoundBackward>)\nLabels predicted (proba.):  tensor([[0.8628, 0.2476, 0.5502]], device='cuda:0', grad_fn=<SigmoidBackward>)\n\n\nMRI # 87\n--------------------------------------------------------------------------------\nTrue labels:  tensor([[0., 0., 0.]])\nLabels predicted:  tensor([[0., 0., 0.]], device='cuda:0', grad_fn=<RoundBackward>)\nLabels predicted (proba.):  tensor([[0.1235, 0.0830, 0.0335]], device='cuda:0', grad_fn=<SigmoidBackward>)\n\n\nMRI # 88\n--------------------------------------------------------------------------------\nTrue labels:  tensor([[1., 1., 0.]])\nLabels predicted:  tensor([[0., 0., 0.]], device='cuda:0', grad_fn=<RoundBackward>)\nLabels predicted (proba.):  tensor([[0.3905, 0.1773, 0.1384]], device='cuda:0', grad_fn=<SigmoidBackward>)\n\n\nMRI # 89\n--------------------------------------------------------------------------------\nTrue labels:  tensor([[1., 1., 0.]])\nLabels predicted:  tensor([[1., 0., 0.]], device='cuda:0', grad_fn=<RoundBackward>)\nLabels predicted (proba.):  tensor([[0.8814, 0.2785, 0.3165]], device='cuda:0', grad_fn=<SigmoidBackward>)\n\n\nMRI # 90\n--------------------------------------------------------------------------------\nTrue labels:  tensor([[1., 1., 1.]])\nLabels predicted:  tensor([[1., 1., 1.]], device='cuda:0', grad_fn=<RoundBackward>)\nLabels predicted (proba.):  tensor([[0.8192, 0.9128, 0.6605]], device='cuda:0', grad_fn=<SigmoidBackward>)\n\n\nMRI # 91\n--------------------------------------------------------------------------------\nTrue labels:  tensor([[1., 0., 1.]])\nLabels predicted:  tensor([[1., 0., 1.]], device='cuda:0', grad_fn=<RoundBackward>)\nLabels predicted (proba.):  tensor([[0.9898, 0.2922, 0.8669]], device='cuda:0', grad_fn=<SigmoidBackward>)\n\n\nMRI # 92\n--------------------------------------------------------------------------------\nTrue labels:  tensor([[1., 0., 1.]])\nLabels predicted:  tensor([[1., 0., 1.]], device='cuda:0', grad_fn=<RoundBackward>)\nLabels predicted (proba.):  tensor([[0.9102, 0.1447, 0.6427]], device='cuda:0', grad_fn=<SigmoidBackward>)\n\n\nMRI # 93\n--------------------------------------------------------------------------------\nTrue labels:  tensor([[1., 0., 1.]])\nLabels predicted:  tensor([[1., 1., 1.]], device='cuda:0', grad_fn=<RoundBackward>)\nLabels predicted (proba.):  tensor([[0.9857, 0.5396, 0.8184]], device='cuda:0', grad_fn=<SigmoidBackward>)\n\n\nMRI # 94\n--------------------------------------------------------------------------------\nTrue labels:  tensor([[1., 1., 1.]])\nLabels predicted:  tensor([[1., 1., 1.]], device='cuda:0', grad_fn=<RoundBackward>)\nLabels predicted (proba.):  tensor([[0.9728, 0.7775, 0.7845]], device='cuda:0', grad_fn=<SigmoidBackward>)\n\n\nMRI # 95\n--------------------------------------------------------------------------------\nTrue labels:  tensor([[1., 1., 1.]])\nLabels predicted:  tensor([[1., 1., 0.]], device='cuda:0', grad_fn=<RoundBackward>)\nLabels predicted (proba.):  tensor([[0.7200, 0.9083, 0.4278]], device='cuda:0', grad_fn=<SigmoidBackward>)\n\n\nMRI # 96\n--------------------------------------------------------------------------------\nTrue labels:  tensor([[1., 0., 1.]])\nLabels predicted:  tensor([[1., 0., 1.]], device='cuda:0', grad_fn=<RoundBackward>)\nLabels predicted (proba.):  tensor([[0.9691, 0.2187, 0.7033]], device='cuda:0', grad_fn=<SigmoidBackward>)\n\n\nMRI # 97\n--------------------------------------------------------------------------------\nTrue labels:  tensor([[1., 0., 1.]])\nLabels predicted:  tensor([[1., 0., 1.]], device='cuda:0', grad_fn=<RoundBackward>)\nLabels predicted (proba.):  tensor([[0.9547, 0.4320, 0.8683]], device='cuda:0', grad_fn=<SigmoidBackward>)\n\n\nMRI # 98\n--------------------------------------------------------------------------------\nTrue labels:  tensor([[1., 1., 1.]])\nLabels predicted:  tensor([[1., 1., 1.]], device='cuda:0', grad_fn=<RoundBackward>)\nLabels predicted (proba.):  tensor([[0.8708, 0.7016, 0.5207]], device='cuda:0', grad_fn=<SigmoidBackward>)\n\n\nMRI # 99\n--------------------------------------------------------------------------------\nTrue labels:  tensor([[1., 1., 1.]])\nLabels predicted:  tensor([[1., 1., 1.]], device='cuda:0', grad_fn=<RoundBackward>)\nLabels predicted (proba.):  tensor([[0.8562, 0.7198, 0.5874]], device='cuda:0', grad_fn=<SigmoidBackward>)\n\n\nMRI # 100\n--------------------------------------------------------------------------------\nTrue labels:  tensor([[1., 0., 1.]])\nLabels predicted:  tensor([[1., 0., 1.]], device='cuda:0', grad_fn=<RoundBackward>)\nLabels predicted (proba.):  tensor([[0.9817, 0.3581, 0.8192]], device='cuda:0', grad_fn=<SigmoidBackward>)\n\n\nMRI # 101\n--------------------------------------------------------------------------------\nTrue labels:  tensor([[1., 0., 1.]])\nLabels predicted:  tensor([[1., 0., 1.]], device='cuda:0', grad_fn=<RoundBackward>)\nLabels predicted (proba.):  tensor([[0.9888, 0.4030, 0.8256]], device='cuda:0', grad_fn=<SigmoidBackward>)\n\n\nMRI # 102\n--------------------------------------------------------------------------------\nTrue labels:  tensor([[1., 0., 1.]])\nLabels predicted:  tensor([[1., 0., 1.]], device='cuda:0', grad_fn=<RoundBackward>)\nLabels predicted (proba.):  tensor([[0.9725, 0.3046, 0.7779]], device='cuda:0', grad_fn=<SigmoidBackward>)\n\n\nMRI # 103\n--------------------------------------------------------------------------------\nTrue labels:  tensor([[1., 0., 1.]])\nLabels predicted:  tensor([[1., 0., 1.]], device='cuda:0', grad_fn=<RoundBackward>)\nLabels predicted (proba.):  tensor([[0.9245, 0.1359, 0.6621]], device='cuda:0', grad_fn=<SigmoidBackward>)\n\n\nMRI # 104\n--------------------------------------------------------------------------------\nTrue labels:  tensor([[1., 0., 1.]])\n"
        },
        {
          "output_type": "stream",
          "name": "stdout",
          "text": "Labels predicted:  tensor([[1., 1., 1.]], device='cuda:0', grad_fn=<RoundBackward>)\nLabels predicted (proba.):  tensor([[0.7875, 0.7400, 0.5427]], device='cuda:0', grad_fn=<SigmoidBackward>)\n\n\nMRI # 105\n--------------------------------------------------------------------------------\nTrue labels:  tensor([[1., 0., 1.]])\nLabels predicted:  tensor([[1., 0., 1.]], device='cuda:0', grad_fn=<RoundBackward>)\nLabels predicted (proba.):  tensor([[0.9633, 0.4451, 0.7888]], device='cuda:0', grad_fn=<SigmoidBackward>)\n\n\nMRI # 106\n--------------------------------------------------------------------------------\nTrue labels:  tensor([[1., 0., 1.]])\nLabels predicted:  tensor([[1., 0., 0.]], device='cuda:0', grad_fn=<RoundBackward>)\nLabels predicted (proba.):  tensor([[0.7789, 0.2056, 0.4312]], device='cuda:0', grad_fn=<SigmoidBackward>)\n\n\nMRI # 107\n--------------------------------------------------------------------------------\nTrue labels:  tensor([[1., 1., 1.]])\nLabels predicted:  tensor([[1., 0., 0.]], device='cuda:0', grad_fn=<RoundBackward>)\nLabels predicted (proba.):  tensor([[0.8887, 0.4355, 0.4902]], device='cuda:0', grad_fn=<SigmoidBackward>)\n\n\nMRI # 108\n--------------------------------------------------------------------------------\nTrue labels:  tensor([[1., 0., 1.]])\nLabels predicted:  tensor([[1., 0., 0.]], device='cuda:0', grad_fn=<RoundBackward>)\nLabels predicted (proba.):  tensor([[0.8682, 0.1284, 0.3575]], device='cuda:0', grad_fn=<SigmoidBackward>)\n\n\nMRI # 109\n--------------------------------------------------------------------------------\nTrue labels:  tensor([[1., 0., 1.]])\nLabels predicted:  tensor([[1., 0., 1.]], device='cuda:0', grad_fn=<RoundBackward>)\nLabels predicted (proba.):  tensor([[0.9509, 0.0812, 0.5933]], device='cuda:0', grad_fn=<SigmoidBackward>)\n\n\nMRI # 110\n--------------------------------------------------------------------------------\nTrue labels:  tensor([[1., 0., 1.]])\nLabels predicted:  tensor([[1., 0., 0.]], device='cuda:0', grad_fn=<RoundBackward>)\nLabels predicted (proba.):  tensor([[0.7676, 0.1596, 0.2398]], device='cuda:0', grad_fn=<SigmoidBackward>)\n\n\nMRI # 111\n--------------------------------------------------------------------------------\nTrue labels:  tensor([[1., 0., 1.]])\nLabels predicted:  tensor([[1., 0., 0.]], device='cuda:0', grad_fn=<RoundBackward>)\nLabels predicted (proba.):  tensor([[0.6010, 0.0923, 0.2552]], device='cuda:0', grad_fn=<SigmoidBackward>)\n\n\nMRI # 112\n--------------------------------------------------------------------------------\nTrue labels:  tensor([[1., 0., 1.]])\nLabels predicted:  tensor([[1., 1., 1.]], device='cuda:0', grad_fn=<RoundBackward>)\nLabels predicted (proba.):  tensor([[0.9079, 0.5338, 0.5912]], device='cuda:0', grad_fn=<SigmoidBackward>)\n\n\nMRI # 113\n--------------------------------------------------------------------------------\nTrue labels:  tensor([[1., 0., 1.]])\nLabels predicted:  tensor([[1., 0., 1.]], device='cuda:0', grad_fn=<RoundBackward>)\nLabels predicted (proba.):  tensor([[0.9892, 0.3157, 0.9019]], device='cuda:0', grad_fn=<SigmoidBackward>)\n\n\nMRI # 114\n--------------------------------------------------------------------------------\nTrue labels:  tensor([[1., 0., 1.]])\nLabels predicted:  tensor([[1., 0., 0.]], device='cuda:0', grad_fn=<RoundBackward>)\nLabels predicted (proba.):  tensor([[0.8722, 0.1322, 0.3698]], device='cuda:0', grad_fn=<SigmoidBackward>)\n\n\nMRI # 115\n--------------------------------------------------------------------------------\nTrue labels:  tensor([[1., 1., 1.]])\nLabels predicted:  tensor([[1., 0., 0.]], device='cuda:0', grad_fn=<RoundBackward>)\nLabels predicted (proba.):  tensor([[0.8273, 0.4409, 0.4115]], device='cuda:0', grad_fn=<SigmoidBackward>)\n\n\nMRI # 116\n--------------------------------------------------------------------------------\nTrue labels:  tensor([[1., 1., 1.]])\nLabels predicted:  tensor([[1., 0., 0.]], device='cuda:0', grad_fn=<RoundBackward>)\nLabels predicted (proba.):  tensor([[0.9084, 0.4168, 0.4755]], device='cuda:0', grad_fn=<SigmoidBackward>)\n\n\nMRI # 117\n--------------------------------------------------------------------------------\nTrue labels:  tensor([[1., 0., 1.]])\nLabels predicted:  tensor([[1., 0., 0.]], device='cuda:0', grad_fn=<RoundBackward>)\nLabels predicted (proba.):  tensor([[0.7422, 0.0918, 0.2199]], device='cuda:0', grad_fn=<SigmoidBackward>)\n\n\nMRI # 118\n--------------------------------------------------------------------------------\nTrue labels:  tensor([[1., 1., 1.]])\nLabels predicted:  tensor([[1., 0., 0.]], device='cuda:0', grad_fn=<RoundBackward>)\nLabels predicted (proba.):  tensor([[0.8312, 0.4432, 0.3446]], device='cuda:0', grad_fn=<SigmoidBackward>)\n\n\nMRI # 119\n--------------------------------------------------------------------------------\nTrue labels:  tensor([[1., 0., 1.]])\nLabels predicted:  tensor([[0., 0., 0.]], device='cuda:0', grad_fn=<RoundBackward>)\nLabels predicted (proba.):  tensor([[0.1363, 0.1859, 0.0623]], device='cuda:0', grad_fn=<SigmoidBackward>)\n\n\n"
        }
      ]
    }
  ]
}